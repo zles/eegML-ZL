{
  "cells": [
    {
      "cell_type": "markdown",
      "metadata": {
        "colab_type": "text",
        "id": "view-in-github"
      },
      "source": [
        "<a href=\"https://colab.research.google.com/github/abelowska/eegML/blob/main/Classes_02_multiple_variables_linear_regression.ipynb\" target=\"_parent\"><img src=\"https://colab.research.google.com/assets/colab-badge.svg\" alt=\"Open In Colab\"/></a>"
      ]
    },
    {
      "cell_type": "markdown",
      "metadata": {
        "id": "0UM_-fA16Wx0"
      },
      "source": [
        "# Multiple variable linear regression"
      ]
    },
    {
      "cell_type": "markdown",
      "metadata": {
        "id": "kP1JP1zeZ9Yx"
      },
      "source": [
        "Using an open source [diabetes dataset](https://scikit-learn.org/stable/modules/generated/sklearn.datasets.load_diabetes.html#sklearn.datasets.load_diabetes) we're going to predict diabetes progression based on BMI scores with linear regression but now using more than one predictor. "
      ]
    },
    {
      "cell_type": "markdown",
      "metadata": {
        "id": "8Q6dBZxA7WVj"
      },
      "source": [
        "Imports"
      ]
    },
    {
      "cell_type": "code",
      "execution_count": 3,
      "metadata": {
        "id": "VEyKd5686Pt8"
      },
      "outputs": [],
      "source": [
        "import matplotlib.pyplot as plt\n",
        "import numpy as np\n",
        "from sklearn import datasets, linear_model\n",
        "from sklearn.metrics import mean_squared_error, mean_absolute_error, r2_score\n",
        "from sklearn.model_selection import train_test_split\n",
        "import pandas as pd\n",
        "import seaborn as sns\n",
        "import io\n",
        "import plotly.graph_objects as go\n",
        "\n",
        "from ipywidgets import interact, interactive, fixed, interact_manual\n",
        "import ipywidgets as widgets"
      ]
    },
    {
      "cell_type": "markdown",
      "metadata": {
        "id": "C40f350QVvNb"
      },
      "source": [
        "## Load the [diabetes dataset](https://scikit-learn.org/stable/modules/generated/sklearn.datasets.load_diabetes.html#sklearn.datasets.load_diabetes)"
      ]
    },
    {
      "cell_type": "code",
      "execution_count": 4,
      "metadata": {
        "id": "F_ado_rVXzyc"
      },
      "outputs": [],
      "source": [
        "diabets_data = datasets.load_diabetes(as_frame=True)"
      ]
    },
    {
      "cell_type": "markdown",
      "metadata": {
        "id": "CrXV5zL7VzM8"
      },
      "source": [
        "Inspect the data"
      ]
    },
    {
      "cell_type": "code",
      "execution_count": 5,
      "metadata": {
        "colab": {
          "base_uri": "https://localhost:8080/"
        },
        "id": "LXEDjCG9YHB0",
        "outputId": "684529c6-2638-4a19-d247-69452ab25a1e"
      },
      "outputs": [
        {
          "name": "stdout",
          "output_type": "stream",
          "text": [
            ".. _diabetes_dataset:\n",
            "\n",
            "Diabetes dataset\n",
            "----------------\n",
            "\n",
            "Ten baseline variables, age, sex, body mass index, average blood\n",
            "pressure, and six blood serum measurements were obtained for each of n =\n",
            "442 diabetes patients, as well as the response of interest, a\n",
            "quantitative measure of disease progression one year after baseline.\n",
            "\n",
            "**Data Set Characteristics:**\n",
            "\n",
            "  :Number of Instances: 442\n",
            "\n",
            "  :Number of Attributes: First 10 columns are numeric predictive values\n",
            "\n",
            "  :Target: Column 11 is a quantitative measure of disease progression one year after baseline\n",
            "\n",
            "  :Attribute Information:\n",
            "      - age     age in years\n",
            "      - sex\n",
            "      - bmi     body mass index\n",
            "      - bp      average blood pressure\n",
            "      - s1      tc, total serum cholesterol\n",
            "      - s2      ldl, low-density lipoproteins\n",
            "      - s3      hdl, high-density lipoproteins\n",
            "      - s4      tch, total cholesterol / HDL\n",
            "      - s5      ltg, possibly log of serum triglycerides level\n",
            "      - s6      glu, blood sugar level\n",
            "\n",
            "Note: Each of these 10 feature variables have been mean centered and scaled by the standard deviation times the square root of `n_samples` (i.e. the sum of squares of each column totals 1).\n",
            "\n",
            "Source URL:\n",
            "https://www4.stat.ncsu.edu/~boos/var.select/diabetes.html\n",
            "\n",
            "For more information see:\n",
            "Bradley Efron, Trevor Hastie, Iain Johnstone and Robert Tibshirani (2004) \"Least Angle Regression,\" Annals of Statistics (with discussion), 407-499.\n",
            "(https://web.stanford.edu/~hastie/Papers/LARS/LeastAngle_2002.pdf)\n",
            "\n"
          ]
        }
      ],
      "source": [
        "# read the description of dataset: the target and features\n",
        "print(diabets_data.DESCR)"
      ]
    },
    {
      "cell_type": "code",
      "execution_count": 6,
      "metadata": {
        "colab": {
          "base_uri": "https://localhost:8080/",
          "height": 206
        },
        "id": "HI8HRfA2YWAg",
        "outputId": "b41a4a1b-af6d-4bf3-a91d-bcbce689d609"
      },
      "outputs": [
        {
          "data": {
            "text/html": [
              "<div>\n",
              "<style scoped>\n",
              "    .dataframe tbody tr th:only-of-type {\n",
              "        vertical-align: middle;\n",
              "    }\n",
              "\n",
              "    .dataframe tbody tr th {\n",
              "        vertical-align: top;\n",
              "    }\n",
              "\n",
              "    .dataframe thead th {\n",
              "        text-align: right;\n",
              "    }\n",
              "</style>\n",
              "<table border=\"1\" class=\"dataframe\">\n",
              "  <thead>\n",
              "    <tr style=\"text-align: right;\">\n",
              "      <th></th>\n",
              "      <th>age</th>\n",
              "      <th>sex</th>\n",
              "      <th>bmi</th>\n",
              "      <th>bp</th>\n",
              "      <th>s1</th>\n",
              "      <th>s2</th>\n",
              "      <th>s3</th>\n",
              "      <th>s4</th>\n",
              "      <th>s5</th>\n",
              "      <th>s6</th>\n",
              "    </tr>\n",
              "  </thead>\n",
              "  <tbody>\n",
              "    <tr>\n",
              "      <th>0</th>\n",
              "      <td>0.038076</td>\n",
              "      <td>0.050680</td>\n",
              "      <td>0.061696</td>\n",
              "      <td>0.021872</td>\n",
              "      <td>-0.044223</td>\n",
              "      <td>-0.034821</td>\n",
              "      <td>-0.043401</td>\n",
              "      <td>-0.002592</td>\n",
              "      <td>0.019907</td>\n",
              "      <td>-0.017646</td>\n",
              "    </tr>\n",
              "    <tr>\n",
              "      <th>1</th>\n",
              "      <td>-0.001882</td>\n",
              "      <td>-0.044642</td>\n",
              "      <td>-0.051474</td>\n",
              "      <td>-0.026328</td>\n",
              "      <td>-0.008449</td>\n",
              "      <td>-0.019163</td>\n",
              "      <td>0.074412</td>\n",
              "      <td>-0.039493</td>\n",
              "      <td>-0.068332</td>\n",
              "      <td>-0.092204</td>\n",
              "    </tr>\n",
              "    <tr>\n",
              "      <th>2</th>\n",
              "      <td>0.085299</td>\n",
              "      <td>0.050680</td>\n",
              "      <td>0.044451</td>\n",
              "      <td>-0.005670</td>\n",
              "      <td>-0.045599</td>\n",
              "      <td>-0.034194</td>\n",
              "      <td>-0.032356</td>\n",
              "      <td>-0.002592</td>\n",
              "      <td>0.002861</td>\n",
              "      <td>-0.025930</td>\n",
              "    </tr>\n",
              "    <tr>\n",
              "      <th>3</th>\n",
              "      <td>-0.089063</td>\n",
              "      <td>-0.044642</td>\n",
              "      <td>-0.011595</td>\n",
              "      <td>-0.036656</td>\n",
              "      <td>0.012191</td>\n",
              "      <td>0.024991</td>\n",
              "      <td>-0.036038</td>\n",
              "      <td>0.034309</td>\n",
              "      <td>0.022688</td>\n",
              "      <td>-0.009362</td>\n",
              "    </tr>\n",
              "    <tr>\n",
              "      <th>4</th>\n",
              "      <td>0.005383</td>\n",
              "      <td>-0.044642</td>\n",
              "      <td>-0.036385</td>\n",
              "      <td>0.021872</td>\n",
              "      <td>0.003935</td>\n",
              "      <td>0.015596</td>\n",
              "      <td>0.008142</td>\n",
              "      <td>-0.002592</td>\n",
              "      <td>-0.031988</td>\n",
              "      <td>-0.046641</td>\n",
              "    </tr>\n",
              "  </tbody>\n",
              "</table>\n",
              "</div>"
            ],
            "text/plain": [
              "        age       sex       bmi        bp        s1        s2        s3  \\\n",
              "0  0.038076  0.050680  0.061696  0.021872 -0.044223 -0.034821 -0.043401   \n",
              "1 -0.001882 -0.044642 -0.051474 -0.026328 -0.008449 -0.019163  0.074412   \n",
              "2  0.085299  0.050680  0.044451 -0.005670 -0.045599 -0.034194 -0.032356   \n",
              "3 -0.089063 -0.044642 -0.011595 -0.036656  0.012191  0.024991 -0.036038   \n",
              "4  0.005383 -0.044642 -0.036385  0.021872  0.003935  0.015596  0.008142   \n",
              "\n",
              "         s4        s5        s6  \n",
              "0 -0.002592  0.019907 -0.017646  \n",
              "1 -0.039493 -0.068332 -0.092204  \n",
              "2 -0.002592  0.002861 -0.025930  \n",
              "3  0.034309  0.022688 -0.009362  \n",
              "4 -0.002592 -0.031988 -0.046641  "
            ]
          },
          "execution_count": 6,
          "metadata": {},
          "output_type": "execute_result"
        }
      ],
      "source": [
        "# get dataframe consisting of features (X set)\n",
        "diabetes_X_df = diabets_data.data\n",
        "diabetes_X_df.head()"
      ]
    },
    {
      "cell_type": "code",
      "execution_count": 7,
      "metadata": {
        "colab": {
          "base_uri": "https://localhost:8080/"
        },
        "id": "70ldX06B5FIZ",
        "outputId": "1bd65e73-c86f-457c-d2ef-6cf5f11d5e04"
      },
      "outputs": [
        {
          "data": {
            "text/plain": [
              "age    0\n",
              "sex    0\n",
              "bmi    0\n",
              "bp     0\n",
              "s1     0\n",
              "s2     0\n",
              "s3     0\n",
              "s4     0\n",
              "s5     0\n",
              "s6     0\n",
              "dtype: int64"
            ]
          },
          "execution_count": 7,
          "metadata": {},
          "output_type": "execute_result"
        }
      ],
      "source": [
        "# checking for Null Values\n",
        "diabetes_X_df.isnull().sum()"
      ]
    },
    {
      "cell_type": "code",
      "execution_count": 8,
      "metadata": {
        "colab": {
          "base_uri": "https://localhost:8080/",
          "height": 434
        },
        "id": "LhoriRco5FSs",
        "outputId": "03049ab8-5937-42b9-f6ca-6c4bcb76cbf1"
      },
      "outputs": [
        {
          "data": {
            "text/html": [
              "<div>\n",
              "<style scoped>\n",
              "    .dataframe tbody tr th:only-of-type {\n",
              "        vertical-align: middle;\n",
              "    }\n",
              "\n",
              "    .dataframe tbody tr th {\n",
              "        vertical-align: top;\n",
              "    }\n",
              "\n",
              "    .dataframe thead th {\n",
              "        text-align: right;\n",
              "    }\n",
              "</style>\n",
              "<table border=\"1\" class=\"dataframe\">\n",
              "  <thead>\n",
              "    <tr style=\"text-align: right;\">\n",
              "      <th></th>\n",
              "      <th>age</th>\n",
              "      <th>sex</th>\n",
              "      <th>bmi</th>\n",
              "      <th>bp</th>\n",
              "      <th>s1</th>\n",
              "      <th>s2</th>\n",
              "      <th>s3</th>\n",
              "      <th>s4</th>\n",
              "      <th>s5</th>\n",
              "      <th>s6</th>\n",
              "    </tr>\n",
              "  </thead>\n",
              "  <tbody>\n",
              "    <tr>\n",
              "      <th>count</th>\n",
              "      <td>4.420000e+02</td>\n",
              "      <td>4.420000e+02</td>\n",
              "      <td>4.420000e+02</td>\n",
              "      <td>4.420000e+02</td>\n",
              "      <td>4.420000e+02</td>\n",
              "      <td>4.420000e+02</td>\n",
              "      <td>4.420000e+02</td>\n",
              "      <td>4.420000e+02</td>\n",
              "      <td>4.420000e+02</td>\n",
              "      <td>4.420000e+02</td>\n",
              "    </tr>\n",
              "    <tr>\n",
              "      <th>mean</th>\n",
              "      <td>-2.511817e-19</td>\n",
              "      <td>1.230790e-17</td>\n",
              "      <td>-2.245564e-16</td>\n",
              "      <td>-4.797570e-17</td>\n",
              "      <td>-1.381499e-17</td>\n",
              "      <td>3.918434e-17</td>\n",
              "      <td>-5.777179e-18</td>\n",
              "      <td>-9.042540e-18</td>\n",
              "      <td>9.293722e-17</td>\n",
              "      <td>1.130318e-17</td>\n",
              "    </tr>\n",
              "    <tr>\n",
              "      <th>std</th>\n",
              "      <td>4.761905e-02</td>\n",
              "      <td>4.761905e-02</td>\n",
              "      <td>4.761905e-02</td>\n",
              "      <td>4.761905e-02</td>\n",
              "      <td>4.761905e-02</td>\n",
              "      <td>4.761905e-02</td>\n",
              "      <td>4.761905e-02</td>\n",
              "      <td>4.761905e-02</td>\n",
              "      <td>4.761905e-02</td>\n",
              "      <td>4.761905e-02</td>\n",
              "    </tr>\n",
              "    <tr>\n",
              "      <th>min</th>\n",
              "      <td>-1.072256e-01</td>\n",
              "      <td>-4.464164e-02</td>\n",
              "      <td>-9.027530e-02</td>\n",
              "      <td>-1.123988e-01</td>\n",
              "      <td>-1.267807e-01</td>\n",
              "      <td>-1.156131e-01</td>\n",
              "      <td>-1.023071e-01</td>\n",
              "      <td>-7.639450e-02</td>\n",
              "      <td>-1.260971e-01</td>\n",
              "      <td>-1.377672e-01</td>\n",
              "    </tr>\n",
              "    <tr>\n",
              "      <th>25%</th>\n",
              "      <td>-3.729927e-02</td>\n",
              "      <td>-4.464164e-02</td>\n",
              "      <td>-3.422907e-02</td>\n",
              "      <td>-3.665608e-02</td>\n",
              "      <td>-3.424784e-02</td>\n",
              "      <td>-3.035840e-02</td>\n",
              "      <td>-3.511716e-02</td>\n",
              "      <td>-3.949338e-02</td>\n",
              "      <td>-3.324559e-02</td>\n",
              "      <td>-3.317903e-02</td>\n",
              "    </tr>\n",
              "    <tr>\n",
              "      <th>50%</th>\n",
              "      <td>5.383060e-03</td>\n",
              "      <td>-4.464164e-02</td>\n",
              "      <td>-7.283766e-03</td>\n",
              "      <td>-5.670422e-03</td>\n",
              "      <td>-4.320866e-03</td>\n",
              "      <td>-3.819065e-03</td>\n",
              "      <td>-6.584468e-03</td>\n",
              "      <td>-2.592262e-03</td>\n",
              "      <td>-1.947171e-03</td>\n",
              "      <td>-1.077698e-03</td>\n",
              "    </tr>\n",
              "    <tr>\n",
              "      <th>75%</th>\n",
              "      <td>3.807591e-02</td>\n",
              "      <td>5.068012e-02</td>\n",
              "      <td>3.124802e-02</td>\n",
              "      <td>3.564379e-02</td>\n",
              "      <td>2.835801e-02</td>\n",
              "      <td>2.984439e-02</td>\n",
              "      <td>2.931150e-02</td>\n",
              "      <td>3.430886e-02</td>\n",
              "      <td>3.243232e-02</td>\n",
              "      <td>2.791705e-02</td>\n",
              "    </tr>\n",
              "    <tr>\n",
              "      <th>max</th>\n",
              "      <td>1.107267e-01</td>\n",
              "      <td>5.068012e-02</td>\n",
              "      <td>1.705552e-01</td>\n",
              "      <td>1.320436e-01</td>\n",
              "      <td>1.539137e-01</td>\n",
              "      <td>1.987880e-01</td>\n",
              "      <td>1.811791e-01</td>\n",
              "      <td>1.852344e-01</td>\n",
              "      <td>1.335973e-01</td>\n",
              "      <td>1.356118e-01</td>\n",
              "    </tr>\n",
              "  </tbody>\n",
              "</table>\n",
              "</div>"
            ],
            "text/plain": [
              "                age           sex           bmi            bp            s1  \\\n",
              "count  4.420000e+02  4.420000e+02  4.420000e+02  4.420000e+02  4.420000e+02   \n",
              "mean  -2.511817e-19  1.230790e-17 -2.245564e-16 -4.797570e-17 -1.381499e-17   \n",
              "std    4.761905e-02  4.761905e-02  4.761905e-02  4.761905e-02  4.761905e-02   \n",
              "min   -1.072256e-01 -4.464164e-02 -9.027530e-02 -1.123988e-01 -1.267807e-01   \n",
              "25%   -3.729927e-02 -4.464164e-02 -3.422907e-02 -3.665608e-02 -3.424784e-02   \n",
              "50%    5.383060e-03 -4.464164e-02 -7.283766e-03 -5.670422e-03 -4.320866e-03   \n",
              "75%    3.807591e-02  5.068012e-02  3.124802e-02  3.564379e-02  2.835801e-02   \n",
              "max    1.107267e-01  5.068012e-02  1.705552e-01  1.320436e-01  1.539137e-01   \n",
              "\n",
              "                 s2            s3            s4            s5            s6  \n",
              "count  4.420000e+02  4.420000e+02  4.420000e+02  4.420000e+02  4.420000e+02  \n",
              "mean   3.918434e-17 -5.777179e-18 -9.042540e-18  9.293722e-17  1.130318e-17  \n",
              "std    4.761905e-02  4.761905e-02  4.761905e-02  4.761905e-02  4.761905e-02  \n",
              "min   -1.156131e-01 -1.023071e-01 -7.639450e-02 -1.260971e-01 -1.377672e-01  \n",
              "25%   -3.035840e-02 -3.511716e-02 -3.949338e-02 -3.324559e-02 -3.317903e-02  \n",
              "50%   -3.819065e-03 -6.584468e-03 -2.592262e-03 -1.947171e-03 -1.077698e-03  \n",
              "75%    2.984439e-02  2.931150e-02  3.430886e-02  3.243232e-02  2.791705e-02  \n",
              "max    1.987880e-01  1.811791e-01  1.852344e-01  1.335973e-01  1.356118e-01  "
            ]
          },
          "execution_count": 8,
          "metadata": {},
          "output_type": "execute_result"
        }
      ],
      "source": [
        "diabetes_X_df.describe()"
      ]
    },
    {
      "cell_type": "code",
      "execution_count": 9,
      "metadata": {
        "colab": {
          "base_uri": "https://localhost:8080/"
        },
        "id": "h11C_ZM0Yqa_",
        "outputId": "664e17a0-0305-4f30-d582-ced82a1c9c77"
      },
      "outputs": [
        {
          "data": {
            "text/plain": [
              "0    151.0\n",
              "1     75.0\n",
              "2    141.0\n",
              "3    206.0\n",
              "4    135.0\n",
              "Name: target, dtype: float64"
            ]
          },
          "execution_count": 9,
          "metadata": {},
          "output_type": "execute_result"
        }
      ],
      "source": [
        "# get dataframe with target (y set)\n",
        "diabetes_y_df = diabets_data.target\n",
        "diabetes_y_df.head()"
      ]
    },
    {
      "cell_type": "code",
      "execution_count": 10,
      "metadata": {
        "colab": {
          "base_uri": "https://localhost:8080/"
        },
        "id": "sGE0RYsj5fOQ",
        "outputId": "f50910f5-79ab-42c0-bd28-4621920a8dc3"
      },
      "outputs": [
        {
          "data": {
            "text/plain": [
              "0"
            ]
          },
          "execution_count": 10,
          "metadata": {},
          "output_type": "execute_result"
        }
      ],
      "source": [
        "# checking for Null Values\n",
        "diabetes_y_df.isnull().sum()"
      ]
    },
    {
      "cell_type": "code",
      "execution_count": 11,
      "metadata": {
        "colab": {
          "base_uri": "https://localhost:8080/"
        },
        "id": "ogpQnqb45fOQ",
        "outputId": "161ad4fb-0956-413c-99c6-e12c8aa88bf3"
      },
      "outputs": [
        {
          "data": {
            "text/plain": [
              "count    442.000000\n",
              "mean     152.133484\n",
              "std       77.093005\n",
              "min       25.000000\n",
              "25%       87.000000\n",
              "50%      140.500000\n",
              "75%      211.500000\n",
              "max      346.000000\n",
              "Name: target, dtype: float64"
            ]
          },
          "execution_count": 11,
          "metadata": {},
          "output_type": "execute_result"
        }
      ],
      "source": [
        "diabetes_y_df.describe()"
      ]
    },
    {
      "cell_type": "markdown",
      "metadata": {
        "id": "DcN_X9YRWTul"
      },
      "source": [
        "Notice, that X dataset is a `DataFrame` that consists of 10 columns (10 features) and y dataset is a `Series`. If you do not know how I knew where the data was and what parameters to refer to - look at the [documentation](https://scikit-learn.org/stable/modules/generated/sklearn.datasets.load_diabetes.html#sklearn.datasets.load_diabetes) :)\n",
        "\n",
        "Now, let's look deeper inside the data:"
      ]
    },
    {
      "cell_type": "code",
      "execution_count": 12,
      "metadata": {
        "colab": {
          "base_uri": "https://localhost:8080/",
          "height": 250
        },
        "id": "ymDkKgaK5srX",
        "outputId": "ceaca6db-8c88-468e-e6a1-098074ff8189"
      },
      "outputs": [
        {
          "data": {
            "text/html": [
              "<div>\n",
              "<style scoped>\n",
              "    .dataframe tbody tr th:only-of-type {\n",
              "        vertical-align: middle;\n",
              "    }\n",
              "\n",
              "    .dataframe tbody tr th {\n",
              "        vertical-align: top;\n",
              "    }\n",
              "\n",
              "    .dataframe thead th {\n",
              "        text-align: right;\n",
              "    }\n",
              "</style>\n",
              "<table border=\"1\" class=\"dataframe\">\n",
              "  <thead>\n",
              "    <tr style=\"text-align: right;\">\n",
              "      <th></th>\n",
              "      <th>target</th>\n",
              "      <th>age</th>\n",
              "      <th>sex</th>\n",
              "      <th>bmi</th>\n",
              "      <th>bp</th>\n",
              "      <th>s1</th>\n",
              "      <th>s2</th>\n",
              "      <th>s3</th>\n",
              "      <th>s4</th>\n",
              "      <th>s5</th>\n",
              "      <th>s6</th>\n",
              "    </tr>\n",
              "  </thead>\n",
              "  <tbody>\n",
              "    <tr>\n",
              "      <th>0</th>\n",
              "      <td>151.0</td>\n",
              "      <td>0.038076</td>\n",
              "      <td>0.050680</td>\n",
              "      <td>0.061696</td>\n",
              "      <td>0.021872</td>\n",
              "      <td>-0.044223</td>\n",
              "      <td>-0.034821</td>\n",
              "      <td>-0.043401</td>\n",
              "      <td>-0.002592</td>\n",
              "      <td>0.019907</td>\n",
              "      <td>-0.017646</td>\n",
              "    </tr>\n",
              "    <tr>\n",
              "      <th>1</th>\n",
              "      <td>75.0</td>\n",
              "      <td>-0.001882</td>\n",
              "      <td>-0.044642</td>\n",
              "      <td>-0.051474</td>\n",
              "      <td>-0.026328</td>\n",
              "      <td>-0.008449</td>\n",
              "      <td>-0.019163</td>\n",
              "      <td>0.074412</td>\n",
              "      <td>-0.039493</td>\n",
              "      <td>-0.068332</td>\n",
              "      <td>-0.092204</td>\n",
              "    </tr>\n",
              "    <tr>\n",
              "      <th>2</th>\n",
              "      <td>141.0</td>\n",
              "      <td>0.085299</td>\n",
              "      <td>0.050680</td>\n",
              "      <td>0.044451</td>\n",
              "      <td>-0.005670</td>\n",
              "      <td>-0.045599</td>\n",
              "      <td>-0.034194</td>\n",
              "      <td>-0.032356</td>\n",
              "      <td>-0.002592</td>\n",
              "      <td>0.002861</td>\n",
              "      <td>-0.025930</td>\n",
              "    </tr>\n",
              "    <tr>\n",
              "      <th>3</th>\n",
              "      <td>206.0</td>\n",
              "      <td>-0.089063</td>\n",
              "      <td>-0.044642</td>\n",
              "      <td>-0.011595</td>\n",
              "      <td>-0.036656</td>\n",
              "      <td>0.012191</td>\n",
              "      <td>0.024991</td>\n",
              "      <td>-0.036038</td>\n",
              "      <td>0.034309</td>\n",
              "      <td>0.022688</td>\n",
              "      <td>-0.009362</td>\n",
              "    </tr>\n",
              "    <tr>\n",
              "      <th>4</th>\n",
              "      <td>135.0</td>\n",
              "      <td>0.005383</td>\n",
              "      <td>-0.044642</td>\n",
              "      <td>-0.036385</td>\n",
              "      <td>0.021872</td>\n",
              "      <td>0.003935</td>\n",
              "      <td>0.015596</td>\n",
              "      <td>0.008142</td>\n",
              "      <td>-0.002592</td>\n",
              "      <td>-0.031988</td>\n",
              "      <td>-0.046641</td>\n",
              "    </tr>\n",
              "  </tbody>\n",
              "</table>\n",
              "</div>"
            ],
            "text/plain": [
              "   target       age       sex       bmi        bp        s1        s2  \\\n",
              "0   151.0  0.038076  0.050680  0.061696  0.021872 -0.044223 -0.034821   \n",
              "1    75.0 -0.001882 -0.044642 -0.051474 -0.026328 -0.008449 -0.019163   \n",
              "2   141.0  0.085299  0.050680  0.044451 -0.005670 -0.045599 -0.034194   \n",
              "3   206.0 -0.089063 -0.044642 -0.011595 -0.036656  0.012191  0.024991   \n",
              "4   135.0  0.005383 -0.044642 -0.036385  0.021872  0.003935  0.015596   \n",
              "\n",
              "         s3        s4        s5        s6  \n",
              "0 -0.043401 -0.002592  0.019907 -0.017646  \n",
              "1  0.074412 -0.039493 -0.068332 -0.092204  \n",
              "2 -0.032356 -0.002592  0.002861 -0.025930  \n",
              "3 -0.036038  0.034309  0.022688 -0.009362  \n",
              "4  0.008142 -0.002592 -0.031988 -0.046641  "
            ]
          },
          "execution_count": 12,
          "metadata": {},
          "output_type": "execute_result"
        }
      ],
      "source": [
        "# merge target and features into one dataframe\n",
        "df = pd.DataFrame(diabetes_y_df).join(diabetes_X_df)\n",
        "df.head()"
      ]
    },
    {
      "cell_type": "code",
      "execution_count": 13,
      "metadata": {
        "id": "_nAPmJhe7pRK"
      },
      "outputs": [],
      "source": [
        "# create correlation matix\n",
        "corr = df.corr()"
      ]
    },
    {
      "cell_type": "code",
      "execution_count": 14,
      "metadata": {
        "colab": {
          "base_uri": "https://localhost:8080/",
          "height": 541
        },
        "id": "9dy-cQto78Mq",
        "outputId": "3b19318f-3d06-4605-e085-74cf6bfaf64a"
      },
      "outputs": [
        {
          "data": {
            "image/png": "[encoded data removed]",
            "text/plain": [
              "<Figure size 1200x900 with 2 Axes>"
            ]
          },
          "metadata": {},
          "output_type": "display_data"
        }
      ],
      "source": [
        "# plot matrix\n",
        "plt.figure(figsize=(12,9))\n",
        "\n",
        "sns.heatmap(\n",
        "    corr,\n",
        "    vmax=.8, \n",
        "    annot=True,\n",
        "    cmap='icefire'\n",
        "    )\n",
        "\n",
        "plt.show()"
      ]
    },
    {
      "cell_type": "markdown",
      "metadata": {
        "id": "AnOr44HJ5tB0"
      },
      "source": [
        "\n",
        "**Now, we're going to add more features to our $\\color{#DF3B18}{\\text{feature vector}}$. Let's look whether adding $\\color{#DF3B18}{\\text{total cholesterol (s4)}}$ variable to $\\color{#DF3B18}{\\text{BMI}}$ increases accuracy of our predictive model.**\n",
        "\n"
      ]
    },
    {
      "cell_type": "markdown",
      "metadata": {
        "id": "jsu1bvMHf2S8"
      },
      "source": [
        "## Prepare data"
      ]
    },
    {
      "cell_type": "markdown",
      "metadata": {
        "id": "vjUIBHZ_cl7T"
      },
      "source": [
        "Select features from a data frame consisting of features. Then, cast data to array-like data format and reshape to (n_samples, n_features)."
      ]
    },
    {
      "cell_type": "code",
      "execution_count": 15,
      "metadata": {
        "colab": {
          "base_uri": "https://localhost:8080/",
          "height": 206
        },
        "id": "vL_myGVvV1RL",
        "outputId": "347cb749-9f92-49cb-9223-fdc18116d149"
      },
      "outputs": [
        {
          "data": {
            "text/html": [
              "<div>\n",
              "<style scoped>\n",
              "    .dataframe tbody tr th:only-of-type {\n",
              "        vertical-align: middle;\n",
              "    }\n",
              "\n",
              "    .dataframe tbody tr th {\n",
              "        vertical-align: top;\n",
              "    }\n",
              "\n",
              "    .dataframe thead th {\n",
              "        text-align: right;\n",
              "    }\n",
              "</style>\n",
              "<table border=\"1\" class=\"dataframe\">\n",
              "  <thead>\n",
              "    <tr style=\"text-align: right;\">\n",
              "      <th></th>\n",
              "      <th>age</th>\n",
              "      <th>sex</th>\n",
              "      <th>bmi</th>\n",
              "      <th>bp</th>\n",
              "      <th>s1</th>\n",
              "      <th>s2</th>\n",
              "      <th>s3</th>\n",
              "      <th>s4</th>\n",
              "      <th>s5</th>\n",
              "      <th>s6</th>\n",
              "    </tr>\n",
              "  </thead>\n",
              "  <tbody>\n",
              "    <tr>\n",
              "      <th>0</th>\n",
              "      <td>0.038076</td>\n",
              "      <td>0.050680</td>\n",
              "      <td>0.061696</td>\n",
              "      <td>0.021872</td>\n",
              "      <td>-0.044223</td>\n",
              "      <td>-0.034821</td>\n",
              "      <td>-0.043401</td>\n",
              "      <td>-0.002592</td>\n",
              "      <td>0.019907</td>\n",
              "      <td>-0.017646</td>\n",
              "    </tr>\n",
              "    <tr>\n",
              "      <th>1</th>\n",
              "      <td>-0.001882</td>\n",
              "      <td>-0.044642</td>\n",
              "      <td>-0.051474</td>\n",
              "      <td>-0.026328</td>\n",
              "      <td>-0.008449</td>\n",
              "      <td>-0.019163</td>\n",
              "      <td>0.074412</td>\n",
              "      <td>-0.039493</td>\n",
              "      <td>-0.068332</td>\n",
              "      <td>-0.092204</td>\n",
              "    </tr>\n",
              "    <tr>\n",
              "      <th>2</th>\n",
              "      <td>0.085299</td>\n",
              "      <td>0.050680</td>\n",
              "      <td>0.044451</td>\n",
              "      <td>-0.005670</td>\n",
              "      <td>-0.045599</td>\n",
              "      <td>-0.034194</td>\n",
              "      <td>-0.032356</td>\n",
              "      <td>-0.002592</td>\n",
              "      <td>0.002861</td>\n",
              "      <td>-0.025930</td>\n",
              "    </tr>\n",
              "    <tr>\n",
              "      <th>3</th>\n",
              "      <td>-0.089063</td>\n",
              "      <td>-0.044642</td>\n",
              "      <td>-0.011595</td>\n",
              "      <td>-0.036656</td>\n",
              "      <td>0.012191</td>\n",
              "      <td>0.024991</td>\n",
              "      <td>-0.036038</td>\n",
              "      <td>0.034309</td>\n",
              "      <td>0.022688</td>\n",
              "      <td>-0.009362</td>\n",
              "    </tr>\n",
              "    <tr>\n",
              "      <th>4</th>\n",
              "      <td>0.005383</td>\n",
              "      <td>-0.044642</td>\n",
              "      <td>-0.036385</td>\n",
              "      <td>0.021872</td>\n",
              "      <td>0.003935</td>\n",
              "      <td>0.015596</td>\n",
              "      <td>0.008142</td>\n",
              "      <td>-0.002592</td>\n",
              "      <td>-0.031988</td>\n",
              "      <td>-0.046641</td>\n",
              "    </tr>\n",
              "  </tbody>\n",
              "</table>\n",
              "</div>"
            ],
            "text/plain": [
              "        age       sex       bmi        bp        s1        s2        s3  \\\n",
              "0  0.038076  0.050680  0.061696  0.021872 -0.044223 -0.034821 -0.043401   \n",
              "1 -0.001882 -0.044642 -0.051474 -0.026328 -0.008449 -0.019163  0.074412   \n",
              "2  0.085299  0.050680  0.044451 -0.005670 -0.045599 -0.034194 -0.032356   \n",
              "3 -0.089063 -0.044642 -0.011595 -0.036656  0.012191  0.024991 -0.036038   \n",
              "4  0.005383 -0.044642 -0.036385  0.021872  0.003935  0.015596  0.008142   \n",
              "\n",
              "         s4        s5        s6  \n",
              "0 -0.002592  0.019907 -0.017646  \n",
              "1 -0.039493 -0.068332 -0.092204  \n",
              "2 -0.002592  0.002861 -0.025930  \n",
              "3  0.034309  0.022688 -0.009362  \n",
              "4 -0.002592 -0.031988 -0.046641  "
            ]
          },
          "execution_count": 15,
          "metadata": {},
          "output_type": "execute_result"
        }
      ],
      "source": [
        "# view df\n",
        "diabetes_X_df.head()"
      ]
    },
    {
      "cell_type": "code",
      "execution_count": 16,
      "metadata": {
        "colab": {
          "base_uri": "https://localhost:8080/"
        },
        "id": "SJ_cFgtpgqsG",
        "outputId": "a964665f-0927-4876-85cf-36b7eb7301d1"
      },
      "outputs": [
        {
          "name": "stdout",
          "output_type": "stream",
          "text": [
            "(442, 2)\n"
          ]
        }
      ],
      "source": [
        "# select bmi and s4 colums, transform to np.array and reshape to (n_samples, n_features)\n",
        "# now we have the so-called vector of features \n",
        "X = diabetes_X_df[[\"bmi\", \"s4\"]].to_numpy().reshape(-1, 2)\n",
        "print(X.shape)"
      ]
    },
    {
      "cell_type": "code",
      "execution_count": 17,
      "metadata": {
        "colab": {
          "base_uri": "https://localhost:8080/"
        },
        "id": "xL2Nl0tUg18-",
        "outputId": "fd1aecd3-71e1-4c08-bdbe-c14d9d7a443a"
      },
      "outputs": [
        {
          "name": "stdout",
          "output_type": "stream",
          "text": [
            "(442,)\n"
          ]
        }
      ],
      "source": [
        "# transform target set to np.array and ensure the shape (n_samples)\n",
        "y = diabetes_y_df.to_numpy()\n",
        "print(y.shape)"
      ]
    },
    {
      "cell_type": "markdown",
      "metadata": {
        "id": "pwTevc1PjfK4"
      },
      "source": [
        "### Train-test split"
      ]
    },
    {
      "cell_type": "code",
      "execution_count": 18,
      "metadata": {
        "id": "e-kDCEKhhEry"
      },
      "outputs": [],
      "source": [
        "# to ensure repeatability of splits, we set the random state\n",
        "X_train, X_test, y_train, y_test = train_test_split(X, y, test_size=0.2, random_state=42)"
      ]
    },
    {
      "cell_type": "code",
      "execution_count": 19,
      "metadata": {
        "colab": {
          "base_uri": "https://localhost:8080/"
        },
        "id": "kyRRargdkYnV",
        "outputId": "daf76d2e-695c-4e84-d59e-ca5dc53fd20f"
      },
      "outputs": [
        {
          "name": "stdout",
          "output_type": "stream",
          "text": [
            "Shape of the X train dataset: (353, 2)\n",
            "Shape of the X test dataset: (89, 2)\n",
            "Shape of the y train dataset: (353,)\n",
            "Shape of the y test dataset: (89,)\n"
          ]
        }
      ],
      "source": [
        "print(f\"Shape of the X train dataset: {X_train.shape}\")\n",
        "print(f\"Shape of the X test dataset: {X_test.shape}\")\n",
        "print(f\"Shape of the y train dataset: {y_train.shape}\")\n",
        "print(f\"Shape of the y test dataset: {y_test.shape}\")"
      ]
    },
    {
      "cell_type": "markdown",
      "metadata": {
        "id": "HvJ6Mf3OaS9c"
      },
      "source": [
        "## Fit the model"
      ]
    },
    {
      "cell_type": "code",
      "execution_count": 20,
      "metadata": {
        "colab": {
          "base_uri": "https://localhost:8080/"
        },
        "id": "9_DH1Rs_dH6L",
        "outputId": "303e5bd9-834d-4b06-90ca-e3bb780c7fec"
      },
      "outputs": [
        {
          "data": {
            "text/html": [
              "<style>#sk-container-id-1 {color: black;background-color: white;}#sk-container-id-1 pre{padding: 0;}#sk-container-id-1 div.sk-toggleable {background-color: white;}#sk-container-id-1 label.sk-toggleable__label {cursor: pointer;display: block;width: 100%;margin-bottom: 0;padding: 0.3em;box-sizing: border-box;text-align: center;}#sk-container-id-1 label.sk-toggleable__label-arrow:before {content: \"▸\";float: left;margin-right: 0.25em;color: #696969;}#sk-container-id-1 label.sk-toggleable__label-arrow:hover:before {color: black;}#sk-container-id-1 div.sk-estimator:hover label.sk-toggleable__label-arrow:before {color: black;}#sk-container-id-1 div.sk-toggleable__content {max-height: 0;max-width: 0;overflow: hidden;text-align: left;background-color: #f0f8ff;}#sk-container-id-1 div.sk-toggleable__content pre {margin: 0.2em;color: black;border-radius: 0.25em;background-color: #f0f8ff;}#sk-container-id-1 input.sk-toggleable__control:checked~div.sk-toggleable__content {max-height: 200px;max-width: 100%;overflow: auto;}#sk-container-id-1 input.sk-toggleable__control:checked~label.sk-toggleable__label-arrow:before {content: \"▾\";}#sk-container-id-1 div.sk-estimator input.sk-toggleable__control:checked~label.sk-toggleable__label {background-color: #d4ebff;}#sk-container-id-1 div.sk-label input.sk-toggleable__control:checked~label.sk-toggleable__label {background-color: #d4ebff;}#sk-container-id-1 input.sk-hidden--visually {border: 0;clip: rect(1px 1px 1px 1px);clip: rect(1px, 1px, 1px, 1px);height: 1px;margin: -1px;overflow: hidden;padding: 0;position: absolute;width: 1px;}#sk-container-id-1 div.sk-estimator {font-family: monospace;background-color: #f0f8ff;border: 1px dotted black;border-radius: 0.25em;box-sizing: border-box;margin-bottom: 0.5em;}#sk-container-id-1 div.sk-estimator:hover {background-color: #d4ebff;}#sk-container-id-1 div.sk-parallel-item::after {content: \"\";width: 100%;border-bottom: 1px solid gray;flex-grow: 1;}#sk-container-id-1 div.sk-label:hover label.sk-toggleable__label {background-color: #d4ebff;}#sk-container-id-1 div.sk-serial::before {content: \"\";position: absolute;border-left: 1px solid gray;box-sizing: border-box;top: 0;bottom: 0;left: 50%;z-index: 0;}#sk-container-id-1 div.sk-serial {display: flex;flex-direction: column;align-items: center;background-color: white;padding-right: 0.2em;padding-left: 0.2em;position: relative;}#sk-container-id-1 div.sk-item {position: relative;z-index: 1;}#sk-container-id-1 div.sk-parallel {display: flex;align-items: stretch;justify-content: center;background-color: white;position: relative;}#sk-container-id-1 div.sk-item::before, #sk-container-id-1 div.sk-parallel-item::before {content: \"\";position: absolute;border-left: 1px solid gray;box-sizing: border-box;top: 0;bottom: 0;left: 50%;z-index: -1;}#sk-container-id-1 div.sk-parallel-item {display: flex;flex-direction: column;z-index: 1;position: relative;background-color: white;}#sk-container-id-1 div.sk-parallel-item:first-child::after {align-self: flex-end;width: 50%;}#sk-container-id-1 div.sk-parallel-item:last-child::after {align-self: flex-start;width: 50%;}#sk-container-id-1 div.sk-parallel-item:only-child::after {width: 0;}#sk-container-id-1 div.sk-dashed-wrapped {border: 1px dashed gray;margin: 0 0.4em 0.5em 0.4em;box-sizing: border-box;padding-bottom: 0.4em;background-color: white;}#sk-container-id-1 div.sk-label label {font-family: monospace;font-weight: bold;display: inline-block;line-height: 1.2em;}#sk-container-id-1 div.sk-label-container {text-align: center;}#sk-container-id-1 div.sk-container {/* jupyter's `normalize.less` sets `[hidden] { display: none; }` but bootstrap.min.css set `[hidden] { display: none !important; }` so we also need the `!important` here to be able to override the default hidden behavior on the sphinx rendered scikit-learn.org. See: https://github.com/scikit-learn/scikit-learn/issues/21755 */display: inline-block !important;position: relative;}#sk-container-id-1 div.sk-text-repr-fallback {display: none;}</style><div id=\"sk-container-id-1\" class=\"sk-top-container\"><div class=\"sk-text-repr-fallback\"><pre>LinearRegression()</pre><b>In a Jupyter environment, please rerun this cell to show the HTML representation or trust the notebook. <br />On GitHub, the HTML representation is unable to render, please try loading this page with nbviewer.org.</b></div><div class=\"sk-container\" hidden><div class=\"sk-item\"><div class=\"sk-estimator sk-toggleable\"><input class=\"sk-toggleable__control sk-hidden--visually\" id=\"sk-estimator-id-1\" type=\"checkbox\" checked><label for=\"sk-estimator-id-1\" class=\"sk-toggleable__label sk-toggleable__label-arrow\">LinearRegression</label><div class=\"sk-toggleable__content\"><pre>LinearRegression()</pre></div></div></div></div></div>"
            ],
            "text/plain": [
              "LinearRegression()"
            ]
          },
          "execution_count": 20,
          "metadata": {},
          "output_type": "execute_result"
        }
      ],
      "source": [
        "# create model object\n",
        "lin_regressor = linear_model.LinearRegression()\n",
        "lin_regressor"
      ]
    },
    {
      "cell_type": "code",
      "execution_count": 21,
      "metadata": {
        "colab": {
          "base_uri": "https://localhost:8080/"
        },
        "id": "JxoptoQCdgMW",
        "outputId": "b4c4e1da-38b4-42fd-a991-fe4ab69a0263"
      },
      "outputs": [
        {
          "data": {
            "text/html": [
              "<style>#sk-container-id-2 {color: black;background-color: white;}#sk-container-id-2 pre{padding: 0;}#sk-container-id-2 div.sk-toggleable {background-color: white;}#sk-container-id-2 label.sk-toggleable__label {cursor: pointer;display: block;width: 100%;margin-bottom: 0;padding: 0.3em;box-sizing: border-box;text-align: center;}#sk-container-id-2 label.sk-toggleable__label-arrow:before {content: \"▸\";float: left;margin-right: 0.25em;color: #696969;}#sk-container-id-2 label.sk-toggleable__label-arrow:hover:before {color: black;}#sk-container-id-2 div.sk-estimator:hover label.sk-toggleable__label-arrow:before {color: black;}#sk-container-id-2 div.sk-toggleable__content {max-height: 0;max-width: 0;overflow: hidden;text-align: left;background-color: #f0f8ff;}#sk-container-id-2 div.sk-toggleable__content pre {margin: 0.2em;color: black;border-radius: 0.25em;background-color: #f0f8ff;}#sk-container-id-2 input.sk-toggleable__control:checked~div.sk-toggleable__content {max-height: 200px;max-width: 100%;overflow: auto;}#sk-container-id-2 input.sk-toggleable__control:checked~label.sk-toggleable__label-arrow:before {content: \"▾\";}#sk-container-id-2 div.sk-estimator input.sk-toggleable__control:checked~label.sk-toggleable__label {background-color: #d4ebff;}#sk-container-id-2 div.sk-label input.sk-toggleable__control:checked~label.sk-toggleable__label {background-color: #d4ebff;}#sk-container-id-2 input.sk-hidden--visually {border: 0;clip: rect(1px 1px 1px 1px);clip: rect(1px, 1px, 1px, 1px);height: 1px;margin: -1px;overflow: hidden;padding: 0;position: absolute;width: 1px;}#sk-container-id-2 div.sk-estimator {font-family: monospace;background-color: #f0f8ff;border: 1px dotted black;border-radius: 0.25em;box-sizing: border-box;margin-bottom: 0.5em;}#sk-container-id-2 div.sk-estimator:hover {background-color: #d4ebff;}#sk-container-id-2 div.sk-parallel-item::after {content: \"\";width: 100%;border-bottom: 1px solid gray;flex-grow: 1;}#sk-container-id-2 div.sk-label:hover label.sk-toggleable__label {background-color: #d4ebff;}#sk-container-id-2 div.sk-serial::before {content: \"\";position: absolute;border-left: 1px solid gray;box-sizing: border-box;top: 0;bottom: 0;left: 50%;z-index: 0;}#sk-container-id-2 div.sk-serial {display: flex;flex-direction: column;align-items: center;background-color: white;padding-right: 0.2em;padding-left: 0.2em;position: relative;}#sk-container-id-2 div.sk-item {position: relative;z-index: 1;}#sk-container-id-2 div.sk-parallel {display: flex;align-items: stretch;justify-content: center;background-color: white;position: relative;}#sk-container-id-2 div.sk-item::before, #sk-container-id-2 div.sk-parallel-item::before {content: \"\";position: absolute;border-left: 1px solid gray;box-sizing: border-box;top: 0;bottom: 0;left: 50%;z-index: -1;}#sk-container-id-2 div.sk-parallel-item {display: flex;flex-direction: column;z-index: 1;position: relative;background-color: white;}#sk-container-id-2 div.sk-parallel-item:first-child::after {align-self: flex-end;width: 50%;}#sk-container-id-2 div.sk-parallel-item:last-child::after {align-self: flex-start;width: 50%;}#sk-container-id-2 div.sk-parallel-item:only-child::after {width: 0;}#sk-container-id-2 div.sk-dashed-wrapped {border: 1px dashed gray;margin: 0 0.4em 0.5em 0.4em;box-sizing: border-box;padding-bottom: 0.4em;background-color: white;}#sk-container-id-2 div.sk-label label {font-family: monospace;font-weight: bold;display: inline-block;line-height: 1.2em;}#sk-container-id-2 div.sk-label-container {text-align: center;}#sk-container-id-2 div.sk-container {/* jupyter's `normalize.less` sets `[hidden] { display: none; }` but bootstrap.min.css set `[hidden] { display: none !important; }` so we also need the `!important` here to be able to override the default hidden behavior on the sphinx rendered scikit-learn.org. See: https://github.com/scikit-learn/scikit-learn/issues/21755 */display: inline-block !important;position: relative;}#sk-container-id-2 div.sk-text-repr-fallback {display: none;}</style><div id=\"sk-container-id-2\" class=\"sk-top-container\"><div class=\"sk-text-repr-fallback\"><pre>LinearRegression()</pre><b>In a Jupyter environment, please rerun this cell to show the HTML representation or trust the notebook. <br />On GitHub, the HTML representation is unable to render, please try loading this page with nbviewer.org.</b></div><div class=\"sk-container\" hidden><div class=\"sk-item\"><div class=\"sk-estimator sk-toggleable\"><input class=\"sk-toggleable__control sk-hidden--visually\" id=\"sk-estimator-id-2\" type=\"checkbox\" checked><label for=\"sk-estimator-id-2\" class=\"sk-toggleable__label sk-toggleable__label-arrow\">LinearRegression</label><div class=\"sk-toggleable__content\"><pre>LinearRegression()</pre></div></div></div></div></div>"
            ],
            "text/plain": [
              "LinearRegression()"
            ]
          },
          "execution_count": 21,
          "metadata": {},
          "output_type": "execute_result"
        }
      ],
      "source": [
        "lin_regressor.fit(X_train, y_train)"
      ]
    },
    {
      "cell_type": "markdown",
      "metadata": {
        "id": "6VXDTxRzl6W_"
      },
      "source": [
        "## Test model"
      ]
    },
    {
      "cell_type": "markdown",
      "metadata": {
        "id": "3mHlv6-mlaJP"
      },
      "source": [
        "Predict progression of diabetes based on unseen BMI and cholesterol measurements observations from the test sets with [`predict()`](https://scikit-learn.org/stable/modules/generated/sklearn.linear_model.LinearRegression.html#sklearn.linear_model.LinearRegression.predict) method:"
      ]
    },
    {
      "cell_type": "code",
      "execution_count": 22,
      "metadata": {
        "id": "6YLdozDUk2yj"
      },
      "outputs": [],
      "source": [
        "diabetes_y_pred = lin_regressor.predict(X_test)"
      ]
    },
    {
      "cell_type": "markdown",
      "metadata": {
        "id": "UXVrXSH5mVfr"
      },
      "source": [
        "Calculate $R^2$, $MAE$ and $MSE$"
      ]
    },
    {
      "cell_type": "code",
      "execution_count": 23,
      "metadata": {
        "colab": {
          "base_uri": "https://localhost:8080/"
        },
        "id": "UFbobfxsl9wz",
        "outputId": "38c179f5-9f9a-4045-ac95-b15999c6771d"
      },
      "outputs": [
        {
          "name": "stdout",
          "output_type": "stream",
          "text": [
            "Coefficient of determination: 0.31774842514376833\n"
          ]
        }
      ],
      "source": [
        "# The coefficient of determination: 1 is perfect prediction\n",
        "print(f\"Coefficient of determination: {r2_score(y_test, diabetes_y_pred)}\")"
      ]
    },
    {
      "cell_type": "code",
      "execution_count": 24,
      "metadata": {
        "colab": {
          "base_uri": "https://localhost:8080/"
        },
        "id": "C-20T6eTnc1F",
        "outputId": "954b7989-9d63-4e7d-f35a-04de7252dbd4"
      },
      "outputs": [
        {
          "name": "stdout",
          "output_type": "stream",
          "text": [
            "Mean absolute error: 48.611188894928354\n"
          ]
        }
      ],
      "source": [
        "# The mean absolute error\n",
        "print(f\"Mean absolute error: {mean_absolute_error(y_test, diabetes_y_pred)}\")"
      ]
    },
    {
      "cell_type": "code",
      "execution_count": 25,
      "metadata": {
        "colab": {
          "base_uri": "https://localhost:8080/"
        },
        "id": "XT39f7rcna2O",
        "outputId": "fa117363-4135-45bf-be8a-a1094fc258d8"
      },
      "outputs": [
        {
          "name": "stdout",
          "output_type": "stream",
          "text": [
            "Mean squared error: 3614.6723742527483\n"
          ]
        }
      ],
      "source": [
        "# The mean squared error\n",
        "print(f\"Mean squared error: {mean_squared_error(y_test, diabetes_y_pred)}\")"
      ]
    },
    {
      "cell_type": "markdown",
      "metadata": {
        "id": "hVh48a-en0Bm"
      },
      "source": [
        "It's impossible to interpret $MAE$ and $MSE$ scores standalone. As they reflect the units of data being analysed, we can check mean and standard deviation of target data, to compare $MAE$ and $MSE$ scores with properties of target set."
      ]
    },
    {
      "cell_type": "code",
      "execution_count": 26,
      "metadata": {
        "colab": {
          "base_uri": "https://localhost:8080/"
        },
        "id": "M4zPtG_soMeg",
        "outputId": "a0546004-edd2-4994-ccbe-4267c9a0b75d"
      },
      "outputs": [
        {
          "name": "stdout",
          "output_type": "stream",
          "text": [
            "Mean progression of diabets: 145.75100136464567\n",
            "One standard deviation of progression of diabets: 48.893707215464815\n",
            "Squared standard deviation of progression of diabets: 2390.5946052715963\n"
          ]
        }
      ],
      "source": [
        "print(f\"Mean progression of diabets: {np.mean(diabetes_y_pred)}\")\n",
        "print(f\"One standard deviation of progression of diabets: {np.std(diabetes_y_pred)}\")\n",
        "print(f\"Squared standard deviation of progression of diabets: {np.std(diabetes_y_pred)**2}\")"
      ]
    },
    {
      "cell_type": "markdown",
      "metadata": {
        "id": "82GzHHwYp5_n"
      },
      "source": [
        "Quite clearly, our model is better at predicting diabetes progression - all of our metrics are better compared to a simple linear regression.\n",
        "\n",
        "* $R^2$ increase from $23\\%$ to $32\\%$, \n",
        "* $MAE$ droped from $52$ to $48$, so now it is within $1$ $STD$."
      ]
    },
    {
      "cell_type": "markdown",
      "metadata": {
        "id": "C1kY9TI_nr6b"
      },
      "source": [
        "## Plot results"
      ]
    },
    {
      "cell_type": "markdown",
      "metadata": {
        "id": "CbpMZcxvtesS"
      },
      "source": [
        "Put data into df. Mind, that our feature vector now has 2 variables: bmi and cholesterol level. We're going to split those joined observations into separate colums."
      ]
    },
    {
      "cell_type": "code",
      "execution_count": 95,
      "metadata": {
        "colab": {
          "base_uri": "https://localhost:8080/",
          "height": 206
        },
        "id": "E5IekvizteAB",
        "outputId": "e28366b5-8b98-4ff3-ad75-383e39f436d8"
      },
      "outputs": [
        {
          "ename": "NameError",
          "evalue": "name 'diabetes_y_pred' is not defined",
          "output_type": "error",
          "traceback": [
            "\u001b[1;31m---------------------------------------------------------------------------\u001b[0m",
            "\u001b[1;31mNameError\u001b[0m                                 Traceback (most recent call last)",
            "Cell \u001b[1;32mIn [95], line 5\u001b[0m\n\u001b[0;32m      1\u001b[0m prediction_results_df \u001b[39m=\u001b[39m pd\u001b[39m.\u001b[39mDataFrame({ \n\u001b[0;32m      2\u001b[0m     \u001b[39m\"\u001b[39m\u001b[39mX_bmi\u001b[39m\u001b[39m\"\u001b[39m: X_test[:,\u001b[39m0\u001b[39m],\n\u001b[0;32m      3\u001b[0m     \u001b[39m\"\u001b[39m\u001b[39mX_cholesterol\u001b[39m\u001b[39m\"\u001b[39m: X_test[:,\u001b[39m1\u001b[39m],\n\u001b[0;32m      4\u001b[0m     \u001b[39m\"\u001b[39m\u001b[39my_real\u001b[39m\u001b[39m\"\u001b[39m: y_test,\n\u001b[1;32m----> 5\u001b[0m     \u001b[39m\"\u001b[39m\u001b[39my_pred\u001b[39m\u001b[39m\"\u001b[39m: diabetes_y_pred,   \n\u001b[0;32m      6\u001b[0m })\n\u001b[0;32m      8\u001b[0m prediction_results_df\u001b[39m.\u001b[39mhead()\n",
            "\u001b[1;31mNameError\u001b[0m: name 'diabetes_y_pred' is not defined"
          ]
        }
      ],
      "source": [
        "prediction_results_df = pd.DataFrame({ \n",
        "    \"X_bmi\": X_test[:,0],\n",
        "    \"X_cholesterol\": X_test[:,1],\n",
        "    \"y_real\": y_test,\n",
        "    \"y_pred\": diabetes_y_pred,   \n",
        "})\n",
        "\n",
        "prediction_results_df.head()"
      ]
    },
    {
      "cell_type": "markdown",
      "metadata": {
        "id": "Y12qLjNnynS3"
      },
      "source": [
        "Plot predicted vs real data.\n",
        "\n",
        "3D plotting doesn't have to bo so complicated as coded below - nonetheless Google Colab does not support interactive `matplotlib` (and therefore `seaborn`) plots. Thus, 3D plot below is generated using [`plotly`](https://plotly.com/python/) library.\n"
      ]
    },
    {
      "cell_type": "code",
      "execution_count": 30,
      "metadata": {
        "colab": {
          "base_uri": "https://localhost:8080/",
          "height": 542
        },
        "id": "R-XpbPTaI9sC",
        "outputId": "4673c079-f8b5-4263-f59f-ecd7cf260a79"
      },
      "outputs": [
        {
          "ename": "ValueError",
          "evalue": "Mime type rendering requires nbformat>=4.2.0 but it is not installed",
          "output_type": "error",
          "traceback": [
            "\u001b[1;31m---------------------------------------------------------------------------\u001b[0m",
            "\u001b[1;31mValueError\u001b[0m                                Traceback (most recent call last)",
            "Cell \u001b[1;32mIn [30], line 37\u001b[0m\n\u001b[0;32m     29\u001b[0m fig\u001b[39m.\u001b[39mupdate_layout(\n\u001b[0;32m     30\u001b[0m     scene \u001b[39m=\u001b[39m \u001b[39mdict\u001b[39m(\n\u001b[0;32m     31\u001b[0m         xaxis_title\u001b[39m=\u001b[39m\u001b[39m'\u001b[39m\u001b[39mBMI\u001b[39m\u001b[39m'\u001b[39m,\n\u001b[0;32m     32\u001b[0m         yaxis_title\u001b[39m=\u001b[39m\u001b[39m'\u001b[39m\u001b[39mCholesterol\u001b[39m\u001b[39m'\u001b[39m,\n\u001b[0;32m     33\u001b[0m         zaxis_title\u001b[39m=\u001b[39m\u001b[39m'\u001b[39m\u001b[39mDiabetes Progression\u001b[39m\u001b[39m'\u001b[39m)\n\u001b[0;32m     34\u001b[0m )\n\u001b[0;32m     36\u001b[0m \u001b[39m# plot figure\u001b[39;00m\n\u001b[1;32m---> 37\u001b[0m fig\u001b[39m.\u001b[39;49mshow()\n",
            "File \u001b[1;32mc:\\dev\\eggML\\.venv\\lib\\site-packages\\plotly\\basedatatypes.py:3398\u001b[0m, in \u001b[0;36mBaseFigure.show\u001b[1;34m(self, *args, **kwargs)\u001b[0m\n\u001b[0;32m   3365\u001b[0m \u001b[39m\"\"\"\u001b[39;00m\n\u001b[0;32m   3366\u001b[0m \u001b[39mShow a figure using either the default renderer(s) or the renderer(s)\u001b[39;00m\n\u001b[0;32m   3367\u001b[0m \u001b[39mspecified by the renderer argument\u001b[39;00m\n\u001b[1;32m   (...)\u001b[0m\n\u001b[0;32m   3394\u001b[0m \u001b[39mNone\u001b[39;00m\n\u001b[0;32m   3395\u001b[0m \u001b[39m\"\"\"\u001b[39;00m\n\u001b[0;32m   3396\u001b[0m \u001b[39mimport\u001b[39;00m \u001b[39mplotly\u001b[39;00m\u001b[39m.\u001b[39;00m\u001b[39mio\u001b[39;00m \u001b[39mas\u001b[39;00m \u001b[39mpio\u001b[39;00m\n\u001b[1;32m-> 3398\u001b[0m \u001b[39mreturn\u001b[39;00m pio\u001b[39m.\u001b[39mshow(\u001b[39mself\u001b[39m, \u001b[39m*\u001b[39margs, \u001b[39m*\u001b[39m\u001b[39m*\u001b[39mkwargs)\n",
            "File \u001b[1;32mc:\\dev\\eggML\\.venv\\lib\\site-packages\\plotly\\io\\_renderers.py:396\u001b[0m, in \u001b[0;36mshow\u001b[1;34m(fig, renderer, validate, **kwargs)\u001b[0m\n\u001b[0;32m    391\u001b[0m         \u001b[39mraise\u001b[39;00m \u001b[39mValueError\u001b[39;00m(\n\u001b[0;32m    392\u001b[0m             \u001b[39m\"\u001b[39m\u001b[39mMime type rendering requires ipython but it is not installed\u001b[39m\u001b[39m\"\u001b[39m\n\u001b[0;32m    393\u001b[0m         )\n\u001b[0;32m    395\u001b[0m     \u001b[39mif\u001b[39;00m \u001b[39mnot\u001b[39;00m nbformat \u001b[39mor\u001b[39;00m LooseVersion(nbformat\u001b[39m.\u001b[39m__version__) \u001b[39m<\u001b[39m LooseVersion(\u001b[39m\"\u001b[39m\u001b[39m4.2.0\u001b[39m\u001b[39m\"\u001b[39m):\n\u001b[1;32m--> 396\u001b[0m         \u001b[39mraise\u001b[39;00m \u001b[39mValueError\u001b[39;00m(\n\u001b[0;32m    397\u001b[0m             \u001b[39m\"\u001b[39m\u001b[39mMime type rendering requires nbformat>=4.2.0 but it is not installed\u001b[39m\u001b[39m\"\u001b[39m\n\u001b[0;32m    398\u001b[0m         )\n\u001b[0;32m    400\u001b[0m     ipython_display\u001b[39m.\u001b[39mdisplay(bundle, raw\u001b[39m=\u001b[39m\u001b[39mTrue\u001b[39;00m)\n\u001b[0;32m    402\u001b[0m \u001b[39m# external renderers\u001b[39;00m\n",
            "\u001b[1;31mValueError\u001b[0m: Mime type rendering requires nbformat>=4.2.0 but it is not installed"
          ]
        }
      ],
      "source": [
        "# create scatter plot with observed data\n",
        "\n",
        "trace1 = go.Scatter3d(x=prediction_results_df['X_bmi'].to_numpy(), \n",
        "                      y=prediction_results_df['X_cholesterol'].to_numpy(), \n",
        "                      z=prediction_results_df['y_real'].to_numpy(),\n",
        "                      mode='markers',\n",
        "                      marker=dict(\n",
        "                          size=12,\n",
        "                          color=['pink']*len(prediction_results_df['X_bmi'].to_numpy()),                # set color to an array/list of desired values\n",
        "                      ),\n",
        "                      name = \"Observed data\"\n",
        "                      )\n",
        "\n",
        "# create surface plot with predicted data\n",
        "trace2 = go.Mesh3d(x=prediction_results_df['X_bmi'].to_numpy(), \n",
        "                      y=prediction_results_df['X_cholesterol'].to_numpy(), \n",
        "                      z=prediction_results_df['y_pred'].to_numpy(),\n",
        "                      opacity = 0.8,\n",
        "                      color='purple' ,\n",
        "                      name=\"Regression line\"\n",
        "                      )\n",
        "\n",
        "# add plots to figure to be drawn\n",
        "fig = go.Figure(data=[\n",
        "        trace1,\n",
        "        trace2])\n",
        "\n",
        "# change axes labels\n",
        "fig.update_layout(\n",
        "    scene = dict(\n",
        "        xaxis_title='BMI',\n",
        "        yaxis_title='Cholesterol',\n",
        "        zaxis_title='Diabetes Progression')\n",
        ")\n",
        "\n",
        "# plot figure\n",
        "fig.show()"
      ]
    },
    {
      "cell_type": "markdown",
      "metadata": {
        "id": "5cQ8nJYmnH-S"
      },
      "source": [
        "# Adjusted $R^2$"
      ]
    },
    {
      "cell_type": "markdown",
      "metadata": {
        "id": "YYOuHhSLTvSH"
      },
      "source": [
        "## Let's test few more relationships"
      ]
    },
    {
      "cell_type": "code",
      "execution_count": 31,
      "metadata": {
        "colab": {
          "base_uri": "https://localhost:8080/"
        },
        "id": "7gc8drd0YPaT",
        "outputId": "a4d178d1-3b16-44da-f67c-bded06478bdc"
      },
      "outputs": [
        {
          "name": "stdout",
          "output_type": "stream",
          "text": [
            "(442,)\n"
          ]
        }
      ],
      "source": [
        "# slice subset of data\n",
        "diabetes_y_df = diabets_data.target\n",
        "diabetes_y_df.shape\n",
        "\n",
        "y = diabetes_y_df.to_numpy()\n",
        "print(y.shape)"
      ]
    },
    {
      "cell_type": "code",
      "execution_count": 32,
      "metadata": {
        "id": "jorMebPaXJhR"
      },
      "outputs": [],
      "source": [
        "# prepare dataframe for results\n",
        "results_df = pd.DataFrame()"
      ]
    },
    {
      "cell_type": "code",
      "execution_count": 33,
      "metadata": {
        "colab": {
          "base_uri": "https://localhost:8080/"
        },
        "id": "ktIEpzPcTugO",
        "outputId": "8b582263-a944-4ff8-a6f1-56cb2ba3667d"
      },
      "outputs": [
        {
          "name": "stdout",
          "output_type": "stream",
          "text": [
            "(442, 1)\n",
            "Coefficient of determination: 0.044947934833481695\n",
            "Mean absolute error: 61.64742416472253\n",
            "Mean squared error: 5060.010768986381\n"
          ]
        },
        {
          "name": "stderr",
          "output_type": "stream",
          "text": [
            "C:\\Users\\User\\AppData\\Local\\Temp\\ipykernel_75396\\2429007793.py:33: FutureWarning:\n",
            "\n",
            "The frame.append method is deprecated and will be removed from pandas in a future version. Use pandas.concat instead.\n",
            "\n"
          ]
        }
      ],
      "source": [
        "# Diabetes progression = s2\n",
        "X = diabetes_X_df[[\"s2\"]].to_numpy().reshape(-1, 1)\n",
        "print(X.shape)\n",
        "\n",
        "# train-test split\n",
        "X_train, X_test, y_train, y_test = train_test_split(X, y, test_size=0.2, random_state=42)\n",
        "\n",
        "# create model object\n",
        "lin_regressor = linear_model.LinearRegression()\n",
        "\n",
        "# fit the model\n",
        "lin_regressor.fit(X_train, y_train)\n",
        "\n",
        "# predict \n",
        "diabetes_y_pred = lin_regressor.predict(X_test)\n",
        "\n",
        "# calculate metrics\n",
        "r2 = r2_score(y_test, diabetes_y_pred)\n",
        "mae = mean_absolute_error(y_test, diabetes_y_pred)\n",
        "mse = mean_squared_error(y_test, diabetes_y_pred)\n",
        "print(f\"Coefficient of determination: {r2}\") \n",
        "print(f\"Mean absolute error: {mae}\")\n",
        "print(f\"Mean squared error: {mse}\")\n",
        "\n",
        "# save results to df\n",
        "this_results = pd.DataFrame({\n",
        "    \"model\": \"S2\",\n",
        "    \"R2\": [r2],\n",
        "    \"MAE\": [mae],\n",
        "    \"MSE\": [mse],  \n",
        "})\n",
        "\n",
        "results_df = results_df.append(this_results)"
      ]
    },
    {
      "cell_type": "code",
      "execution_count": 34,
      "metadata": {
        "colab": {
          "base_uri": "https://localhost:8080/",
          "height": 81
        },
        "id": "SmF4bZHfXcyK",
        "outputId": "6c435637-b67a-4bbf-ffde-5b1f2ced4d0e"
      },
      "outputs": [
        {
          "data": {
            "text/html": [
              "<div>\n",
              "<style scoped>\n",
              "    .dataframe tbody tr th:only-of-type {\n",
              "        vertical-align: middle;\n",
              "    }\n",
              "\n",
              "    .dataframe tbody tr th {\n",
              "        vertical-align: top;\n",
              "    }\n",
              "\n",
              "    .dataframe thead th {\n",
              "        text-align: right;\n",
              "    }\n",
              "</style>\n",
              "<table border=\"1\" class=\"dataframe\">\n",
              "  <thead>\n",
              "    <tr style=\"text-align: right;\">\n",
              "      <th></th>\n",
              "      <th>model</th>\n",
              "      <th>R2</th>\n",
              "      <th>MAE</th>\n",
              "      <th>MSE</th>\n",
              "    </tr>\n",
              "  </thead>\n",
              "  <tbody>\n",
              "    <tr>\n",
              "      <th>0</th>\n",
              "      <td>S2</td>\n",
              "      <td>0.044948</td>\n",
              "      <td>61.647424</td>\n",
              "      <td>5060.010769</td>\n",
              "    </tr>\n",
              "  </tbody>\n",
              "</table>\n",
              "</div>"
            ],
            "text/plain": [
              "  model        R2        MAE          MSE\n",
              "0    S2  0.044948  61.647424  5060.010769"
            ]
          },
          "execution_count": 34,
          "metadata": {},
          "output_type": "execute_result"
        }
      ],
      "source": [
        "results_df"
      ]
    },
    {
      "cell_type": "code",
      "execution_count": 35,
      "metadata": {
        "colab": {
          "base_uri": "https://localhost:8080/"
        },
        "id": "5bw1pLIFTum8",
        "outputId": "5335312a-2783-4c66-bfa6-71b52a941164"
      },
      "outputs": [
        {
          "name": "stdout",
          "output_type": "stream",
          "text": [
            "(442, 2)\n",
            "Coefficient of determination: 0.04891586770572709\n",
            "Mean absolute error: 61.49264192815145\n",
            "Mean squared error: 5038.988058501297\n"
          ]
        },
        {
          "name": "stderr",
          "output_type": "stream",
          "text": [
            "C:\\Users\\User\\AppData\\Local\\Temp\\ipykernel_75396\\4217129834.py:34: FutureWarning:\n",
            "\n",
            "The frame.append method is deprecated and will be removed from pandas in a future version. Use pandas.concat instead.\n",
            "\n"
          ]
        }
      ],
      "source": [
        "# Diabetes progression = s2 + age\n",
        "\n",
        "X = diabetes_X_df[[\"s2\", \"age\"]].to_numpy().reshape(-1, 2)\n",
        "print(X.shape)\n",
        "\n",
        "# train-test split\n",
        "X_train, X_test, y_train, y_test = train_test_split(X, y, test_size=0.2, random_state=42)\n",
        "\n",
        "# create model object\n",
        "lin_regressor = linear_model.LinearRegression()\n",
        "\n",
        "# fit the model\n",
        "lin_regressor.fit(X_train, y_train)\n",
        "\n",
        "# predict \n",
        "diabetes_y_pred = lin_regressor.predict(X_test)\n",
        "\n",
        "# calculate metrics\n",
        "r2 = r2_score(y_test, diabetes_y_pred)\n",
        "mae = mean_absolute_error(y_test, diabetes_y_pred)\n",
        "mse = mean_squared_error(y_test, diabetes_y_pred)\n",
        "print(f\"Coefficient of determination: {r2}\") \n",
        "print(f\"Mean absolute error: {mae}\")\n",
        "print(f\"Mean squared error: {mse}\")\n",
        "\n",
        "# save results to df\n",
        "this_results = pd.DataFrame({\n",
        "    \"model\": \"s2+AGE\",\n",
        "    \"R2\": [r2],\n",
        "    \"MAE\": [mae],\n",
        "    \"MSE\": [mse],  \n",
        "})\n",
        "\n",
        "results_df = results_df.append(this_results)"
      ]
    },
    {
      "cell_type": "code",
      "execution_count": 36,
      "metadata": {
        "colab": {
          "base_uri": "https://localhost:8080/",
          "height": 112
        },
        "id": "0Dex8ZmVXdvd",
        "outputId": "4ba385ed-9861-4bf7-9cad-9f27311f7bbd"
      },
      "outputs": [
        {
          "data": {
            "text/html": [
              "<div>\n",
              "<style scoped>\n",
              "    .dataframe tbody tr th:only-of-type {\n",
              "        vertical-align: middle;\n",
              "    }\n",
              "\n",
              "    .dataframe tbody tr th {\n",
              "        vertical-align: top;\n",
              "    }\n",
              "\n",
              "    .dataframe thead th {\n",
              "        text-align: right;\n",
              "    }\n",
              "</style>\n",
              "<table border=\"1\" class=\"dataframe\">\n",
              "  <thead>\n",
              "    <tr style=\"text-align: right;\">\n",
              "      <th></th>\n",
              "      <th>model</th>\n",
              "      <th>R2</th>\n",
              "      <th>MAE</th>\n",
              "      <th>MSE</th>\n",
              "    </tr>\n",
              "  </thead>\n",
              "  <tbody>\n",
              "    <tr>\n",
              "      <th>0</th>\n",
              "      <td>S2</td>\n",
              "      <td>0.044948</td>\n",
              "      <td>61.647424</td>\n",
              "      <td>5060.010769</td>\n",
              "    </tr>\n",
              "    <tr>\n",
              "      <th>0</th>\n",
              "      <td>s2+AGE</td>\n",
              "      <td>0.048916</td>\n",
              "      <td>61.492642</td>\n",
              "      <td>5038.988059</td>\n",
              "    </tr>\n",
              "  </tbody>\n",
              "</table>\n",
              "</div>"
            ],
            "text/plain": [
              "    model        R2        MAE          MSE\n",
              "0      S2  0.044948  61.647424  5060.010769\n",
              "0  s2+AGE  0.048916  61.492642  5038.988059"
            ]
          },
          "execution_count": 36,
          "metadata": {},
          "output_type": "execute_result"
        }
      ],
      "source": [
        "results_df"
      ]
    },
    {
      "cell_type": "code",
      "execution_count": null,
      "metadata": {
        "colab": {
          "base_uri": "https://localhost:8080/"
        },
        "id": "Wl0egpRCU6ct",
        "outputId": "e60fdaa1-ffe8-41d0-f55f-747c94c15a8e"
      },
      "outputs": [
        {
          "name": "stdout",
          "output_type": "stream",
          "text": [
            "(442, 3)\n",
            "Coefficient of determination: 0.05714032344101483\n",
            "Mean absolute error: 60.903219597464854\n",
            "Mean squared error: 4995.413643966785\n"
          ]
        }
      ],
      "source": [
        "# Diabetes progression = s2 + age + s1\n",
        "\n",
        "X = diabetes_X_df[[\"s2\", \"age\", \"s1\"]].to_numpy().reshape(-1, 3)\n",
        "print(X.shape)\n",
        "\n",
        "# train-test split\n",
        "X_train, X_test, y_train, y_test = train_test_split(X, y, test_size=0.2, random_state=42)\n",
        "\n",
        "# create model object\n",
        "lin_regressor = linear_model.LinearRegression()\n",
        "\n",
        "# fit the model\n",
        "lin_regressor.fit(X_train, y_train)\n",
        "\n",
        "# predict \n",
        "diabetes_y_pred = lin_regressor.predict(X_test)\n",
        "\n",
        "# calculate metrics\n",
        "r2 = r2_score(y_test, diabetes_y_pred)\n",
        "mae = mean_absolute_error(y_test, diabetes_y_pred)\n",
        "mse = mean_squared_error(y_test, diabetes_y_pred)\n",
        "print(f\"Coefficient of determination: {r2}\") \n",
        "print(f\"Mean absolute error: {mae}\")\n",
        "print(f\"Mean squared error: {mse}\")\n",
        "\n",
        "# save results to df\n",
        "this_results = pd.DataFrame({\n",
        "    \"model\": \"s2+AGE+s1\",\n",
        "    \"R2\": [r2],\n",
        "    \"MAE\": [mae],\n",
        "    \"MSE\": [mse],  \n",
        "})\n",
        "\n",
        "results_df = results_df.append(this_results)"
      ]
    },
    {
      "cell_type": "code",
      "execution_count": 37,
      "metadata": {
        "colab": {
          "base_uri": "https://localhost:8080/",
          "height": 143
        },
        "id": "UXC5BwmZU6gY",
        "outputId": "5b966761-c74a-4cfc-d205-025473daa87f"
      },
      "outputs": [
        {
          "data": {
            "text/html": [
              "<div>\n",
              "<style scoped>\n",
              "    .dataframe tbody tr th:only-of-type {\n",
              "        vertical-align: middle;\n",
              "    }\n",
              "\n",
              "    .dataframe tbody tr th {\n",
              "        vertical-align: top;\n",
              "    }\n",
              "\n",
              "    .dataframe thead th {\n",
              "        text-align: right;\n",
              "    }\n",
              "</style>\n",
              "<table border=\"1\" class=\"dataframe\">\n",
              "  <thead>\n",
              "    <tr style=\"text-align: right;\">\n",
              "      <th></th>\n",
              "      <th>model</th>\n",
              "      <th>R2</th>\n",
              "      <th>MAE</th>\n",
              "      <th>MSE</th>\n",
              "    </tr>\n",
              "  </thead>\n",
              "  <tbody>\n",
              "    <tr>\n",
              "      <th>0</th>\n",
              "      <td>S2</td>\n",
              "      <td>0.044948</td>\n",
              "      <td>61.647424</td>\n",
              "      <td>5060.010769</td>\n",
              "    </tr>\n",
              "    <tr>\n",
              "      <th>0</th>\n",
              "      <td>s2+AGE</td>\n",
              "      <td>0.048916</td>\n",
              "      <td>61.492642</td>\n",
              "      <td>5038.988059</td>\n",
              "    </tr>\n",
              "  </tbody>\n",
              "</table>\n",
              "</div>"
            ],
            "text/plain": [
              "    model        R2        MAE          MSE\n",
              "0      S2  0.044948  61.647424  5060.010769\n",
              "0  s2+AGE  0.048916  61.492642  5038.988059"
            ]
          },
          "execution_count": 37,
          "metadata": {},
          "output_type": "execute_result"
        }
      ],
      "source": [
        "results_df"
      ]
    },
    {
      "cell_type": "code",
      "execution_count": null,
      "metadata": {
        "colab": {
          "base_uri": "https://localhost:8080/"
        },
        "id": "RFX31oj6quHo",
        "outputId": "b3cfd4b4-b005-4983-8dd6-fbcf5c9033e3"
      },
      "outputs": [
        {
          "name": "stdout",
          "output_type": "stream",
          "text": [
            "(442, 4)\n",
            "Coefficient of determination: 0.04663087042547276\n",
            "Mean absolute error: 61.369077063624346\n",
            "Mean squared error: 5051.094320837032\n"
          ]
        }
      ],
      "source": [
        "# Diabetes progression = s2 + age + s1 + random\n",
        "\n",
        "# create some random data\n",
        "random_data = np.random.rand(442)\n",
        "random_data = random_data.reshape(-1,1)\n",
        "\n",
        "# add random data to feature vector\n",
        "X = diabetes_X_df[[\"s2\", \"age\", \"s1\"]].to_numpy()\n",
        "X = np.concatenate((X, random_data), axis=1)\n",
        "\n",
        "X.reshape(-1, 4)\n",
        "print(X.shape)\n",
        "\n",
        "# train-test split\n",
        "X_train, X_test, y_train, y_test = train_test_split(X, y, test_size=0.2, random_state=42)\n",
        "# create model object\n",
        "lin_regressor = linear_model.LinearRegression()\n",
        "\n",
        "# fit the model\n",
        "lin_regressor.fit(X_train, y_train)\n",
        "\n",
        "# predict \n",
        "diabetes_y_pred = lin_regressor.predict(X_test)\n",
        "\n",
        "# calculate metrics\n",
        "r2 = r2_score(y_test, diabetes_y_pred)\n",
        "mae = mean_absolute_error(y_test, diabetes_y_pred)\n",
        "mse = mean_squared_error(y_test, diabetes_y_pred)\n",
        "print(f\"Coefficient of determination: {r2}\") \n",
        "print(f\"Mean absolute error: {mae}\")\n",
        "print(f\"Mean squared error: {mse}\")\n",
        "\n",
        "# save results to df\n",
        "this_results = pd.DataFrame({\n",
        "    \"model\": \"s2+AGE+s1+rand\",\n",
        "    \"R2\": [r2],\n",
        "    \"MAE\": [mae],\n",
        "    \"MSE\": [mse],  \n",
        "})\n",
        "\n",
        "results_df = results_df.append(this_results)"
      ]
    },
    {
      "cell_type": "code",
      "execution_count": 38,
      "metadata": {
        "colab": {
          "base_uri": "https://localhost:8080/",
          "height": 175
        },
        "id": "d8tk49Z7q3I2",
        "outputId": "4f0c40a7-1edf-4195-9f72-32d199576367"
      },
      "outputs": [
        {
          "data": {
            "text/html": [
              "<div>\n",
              "<style scoped>\n",
              "    .dataframe tbody tr th:only-of-type {\n",
              "        vertical-align: middle;\n",
              "    }\n",
              "\n",
              "    .dataframe tbody tr th {\n",
              "        vertical-align: top;\n",
              "    }\n",
              "\n",
              "    .dataframe thead th {\n",
              "        text-align: right;\n",
              "    }\n",
              "</style>\n",
              "<table border=\"1\" class=\"dataframe\">\n",
              "  <thead>\n",
              "    <tr style=\"text-align: right;\">\n",
              "      <th></th>\n",
              "      <th>model</th>\n",
              "      <th>R2</th>\n",
              "      <th>MAE</th>\n",
              "      <th>MSE</th>\n",
              "    </tr>\n",
              "  </thead>\n",
              "  <tbody>\n",
              "    <tr>\n",
              "      <th>0</th>\n",
              "      <td>S2</td>\n",
              "      <td>0.044948</td>\n",
              "      <td>61.647424</td>\n",
              "      <td>5060.010769</td>\n",
              "    </tr>\n",
              "    <tr>\n",
              "      <th>0</th>\n",
              "      <td>s2+AGE</td>\n",
              "      <td>0.048916</td>\n",
              "      <td>61.492642</td>\n",
              "      <td>5038.988059</td>\n",
              "    </tr>\n",
              "  </tbody>\n",
              "</table>\n",
              "</div>"
            ],
            "text/plain": [
              "    model        R2        MAE          MSE\n",
              "0      S2  0.044948  61.647424  5060.010769\n",
              "0  s2+AGE  0.048916  61.492642  5038.988059"
            ]
          },
          "execution_count": 38,
          "metadata": {},
          "output_type": "execute_result"
        }
      ],
      "source": [
        "results_df"
      ]
    },
    {
      "cell_type": "markdown",
      "metadata": {
        "id": "Mc9-aZ-TiOvJ"
      },
      "source": [
        "Seem good! Our accuracy increases while we add more features to feature vector.\n",
        "\n",
        "**However...**\n",
        "\n",
        "$R^2$ tends to increase with every predictor added to a model. As $R^2$ always increases and never decreases, it can appear to be a better fit with the more terms you add to the model. This can be completely misleading.\n",
        "\n",
        "Adjusted $R^2$ is a modified version of $R^2$ that has been adjusted for the number of predictors in the model. The adjusted $R^2$ increases when the new term improves the model more than would be expected by chance. It decreases when a predictor improves the model by less than expected. The adjusted $R^2$ is always lower than the $R^2$.\n",
        "\n",
        "The equation for Adjusted $R^2$ is as follows:\n",
        "\n",
        "\n",
        "$$\n",
        "Adj\\_R^2 = 1 - {(1 - R^2)(n - 1) \\over (n - k -1)}\n",
        "$$\n",
        "\n",
        "where: \n",
        "* $n$ is a data length\n",
        "* $k$ is a number of predictors"
      ]
    },
    {
      "cell_type": "code",
      "execution_count": 39,
      "metadata": {
        "id": "Gtb-xs4-e0SF"
      },
      "outputs": [],
      "source": [
        "# function for calculating adjusted R2\n",
        "def adj_r2(num_predictors, data_length, r2):\n",
        "  return (1 - (((1-r2)*(data_length-1))/(data_length - num_predictors - 1)))"
      ]
    },
    {
      "cell_type": "code",
      "execution_count": 40,
      "metadata": {
        "id": "1H9I5ZD1l6kU"
      },
      "outputs": [],
      "source": [
        "# apply function adj_r2 to each record of results dataframe\n",
        "\n",
        "data_length = len(y_test)\n",
        "\n",
        "results_df['adj_R2'] = results_df.apply(\n",
        "    lambda row: adj_r2(\n",
        "                  len(row[\"model\"].split(\"+\")),\n",
        "                  data_length,\n",
        "                  row.R2\n",
        "                ), \n",
        "                axis = 1)"
      ]
    },
    {
      "cell_type": "code",
      "execution_count": 41,
      "metadata": {
        "colab": {
          "base_uri": "https://localhost:8080/",
          "height": 175
        },
        "id": "GX-0pOQ8mbTq",
        "outputId": "59fe6cda-a5ba-4338-f564-21b8f2e429b3"
      },
      "outputs": [
        {
          "data": {
            "text/html": [
              "<div>\n",
              "<style scoped>\n",
              "    .dataframe tbody tr th:only-of-type {\n",
              "        vertical-align: middle;\n",
              "    }\n",
              "\n",
              "    .dataframe tbody tr th {\n",
              "        vertical-align: top;\n",
              "    }\n",
              "\n",
              "    .dataframe thead th {\n",
              "        text-align: right;\n",
              "    }\n",
              "</style>\n",
              "<table border=\"1\" class=\"dataframe\">\n",
              "  <thead>\n",
              "    <tr style=\"text-align: right;\">\n",
              "      <th></th>\n",
              "      <th>model</th>\n",
              "      <th>R2</th>\n",
              "      <th>MAE</th>\n",
              "      <th>MSE</th>\n",
              "      <th>adj_R2</th>\n",
              "    </tr>\n",
              "  </thead>\n",
              "  <tbody>\n",
              "    <tr>\n",
              "      <th>0</th>\n",
              "      <td>S2</td>\n",
              "      <td>0.044948</td>\n",
              "      <td>61.647424</td>\n",
              "      <td>5060.010769</td>\n",
              "      <td>0.033970</td>\n",
              "    </tr>\n",
              "    <tr>\n",
              "      <th>0</th>\n",
              "      <td>s2+AGE</td>\n",
              "      <td>0.048916</td>\n",
              "      <td>61.492642</td>\n",
              "      <td>5038.988059</td>\n",
              "      <td>0.026798</td>\n",
              "    </tr>\n",
              "  </tbody>\n",
              "</table>\n",
              "</div>"
            ],
            "text/plain": [
              "    model        R2        MAE          MSE    adj_R2\n",
              "0      S2  0.044948  61.647424  5060.010769  0.033970\n",
              "0  s2+AGE  0.048916  61.492642  5038.988059  0.026798"
            ]
          },
          "execution_count": 41,
          "metadata": {},
          "output_type": "execute_result"
        }
      ],
      "source": [
        "results_df"
      ]
    },
    {
      "cell_type": "markdown",
      "metadata": {
        "id": "ZUc6IhNNWgTX"
      },
      "source": [
        "---\n",
        "Note, however, that $R^2_{Adj}$ is only a certain statistical approximation, useful in some situations and less so in others. "
      ]
    },
    {
      "cell_type": "code",
      "execution_count": 44,
      "metadata": {
        "id": "mG3gn01lQG77"
      },
      "outputs": [],
      "source": [
        "def plotR2againstAdjustedR2(r2, start_sample_size=30, stop_sample_size = 1000, n_features=2):\n",
        "  adj_r2 = []\n",
        "\n",
        "  adj_r2_start = 1 - (1-r2)*(start_sample_size-1)/(start_sample_size - n_features -1)\n",
        "\n",
        "  sample_sizes = range(start_sample_size, stop_sample_size, 20)\n",
        "  # calculate adjusted R2 for increasing sample sizes\n",
        "  for item in sample_sizes:\n",
        "    current_adj_r2 = 1 - (1-r2)*(item-1)/(item - n_features -1)\n",
        "    adj_r2 = np.append(adj_r2, current_adj_r2)\n",
        "\n",
        "  # plot results\n",
        "  fig, ax = plt.subplots(figsize=(10,5))\n",
        "\n",
        "  adj_ax = plt.scatter(sample_sizes, adj_r2, c=\"r\", alpha=0.5, label='Adj. R2')\n",
        "  plt.plot(sample_sizes, adj_r2, c=\"r\", alpha=0.5)\n",
        "  \n",
        "  r_ax = plt.axhline(y=r2, color='g', linestyle='-', label='R2')\n",
        "  adj_h_ax = plt.axhline(y=adj_r2_start, color='r', alpha=0.9, linestyle='-', label='Adj. R2 start')\n",
        "\n",
        "  # add legends and axes labels\n",
        "  plt.xlabel(\"Sample Size\")\n",
        "  plt.ylabel(\"Scores\")\n",
        "  ax.legend(handles=[adj_ax, r_ax, adj_h_ax])"
      ]
    },
    {
      "cell_type": "code",
      "execution_count": 45,
      "metadata": {
        "colab": {
          "base_uri": "https://localhost:8080/",
          "height": 398,
          "referenced_widgets": [
            "a795aacdfe7c46898fe7bbda948a6b33",
            "45681054571b444faf15547c61e3560f",
            "007a190d395b4dec95f0606df1603122",
            "96d67cc9277b41128f682d6ebf4afcc9",
            "d63dd3875ffb4d4d8ac6d384337cd22c",
            "9082413ccba0457ba5663602440e45fc",
            "c8348d86252a41b789c4f983b6e5ca1e",
            "196dbdde774e46909bc347aef0127177",
            "22c32c3d1e56447bb2f1781156410c1b",
            "fcc67da25b9e487d9fcbafff16c69e24"
          ]
        },
        "id": "jRd4P2uJQG_U",
        "outputId": "be2d65e0-1376-4d58-ed2f-8fa56d92f1af"
      },
      "outputs": [],
      "source": [
        "@widgets.interact(R2=(0, 1, 0.01), Features =(1, 28, 1))\n",
        "def update(R2 = 0.01, Features=1):\n",
        "    plotR2againstAdjustedR2(r2 = R2, n_features=Features)"
      ]
    },
    {
      "cell_type": "markdown",
      "metadata": {
        "id": "_83fARpBAsc_"
      },
      "source": [
        "# Exercise"
      ]
    },
    {
      "cell_type": "markdown",
      "metadata": {
        "id": "SppTQDSkB_xx"
      },
      "source": [
        "# Life Expectancy with Multivariate Linear Regression\n",
        "\n",
        "*   Download [Life Expectancy Data](https://www.kaggle.com/datasets/kumarajarshi/life-expectancy-who) from Kaggle. After downloading it should be .zip dir that consists of `Live Expectancy Data.csv` file.\n",
        "*   Read the data using code below.\n",
        "*   Predict a choosen variable on the basis of 2-3 other variables.\n"
      ]
    },
    {
      "cell_type": "markdown",
      "metadata": {
        "id": "Ge9K0MM0D-CI"
      },
      "source": [
        "## Load the Life Expectancy Dataset"
      ]
    },
    {
      "cell_type": "code",
      "execution_count": 9,
      "metadata": {
        "colab": {
          "base_uri": "https://localhost:8080/",
          "height": 74
        },
        "id": "4WTmqze-BiBs",
        "outputId": "dd4f2a08-7126-4e78-8e82-4af5e76340d6"
      },
      "outputs": [],
      "source": [
        "# To upload from your local drive, start with the following code. \n",
        "# It will prompt you to select a file. Click on “Choose Files” \n",
        "# then select and upload the .csv file you downloaded. \n",
        "\n",
        "#from google.colab import files\n",
        "#uploaded = files.upload()"
      ]
    },
    {
      "cell_type": "code",
      "execution_count": 10,
      "metadata": {
        "id": "zsJGm6nXAsCQ"
      },
      "outputs": [],
      "source": [
        "# make sure the filename matches the name of the uploaded file \n",
        "life_expectancy_data = pd.read_csv(\"life_expectancy_data.csv\")\n",
        "life_expectancy_df = life_expectancy_data.copy()"
      ]
    },
    {
      "cell_type": "markdown",
      "metadata": {
        "id": "yS3MffWsD6Um"
      },
      "source": [
        "### Inspect data"
      ]
    },
    {
      "cell_type": "code",
      "execution_count": 61,
      "metadata": {
        "colab": {
          "base_uri": "https://localhost:8080/",
          "height": 352
        },
        "id": "jDI_rgo4D5tT",
        "outputId": "9fd6d8d6-41aa-4b3c-c672-da284490020e"
      },
      "outputs": [
        {
          "data": {
            "text/html": [
              "<div>\n",
              "<style scoped>\n",
              "    .dataframe tbody tr th:only-of-type {\n",
              "        vertical-align: middle;\n",
              "    }\n",
              "\n",
              "    .dataframe tbody tr th {\n",
              "        vertical-align: top;\n",
              "    }\n",
              "\n",
              "    .dataframe thead th {\n",
              "        text-align: right;\n",
              "    }\n",
              "</style>\n",
              "<table border=\"1\" class=\"dataframe\">\n",
              "  <thead>\n",
              "    <tr style=\"text-align: right;\">\n",
              "      <th></th>\n",
              "      <th>Country</th>\n",
              "      <th>Year</th>\n",
              "      <th>Status</th>\n",
              "      <th>Lifeexpectancy</th>\n",
              "      <th>AdultMortality</th>\n",
              "      <th>infantdeaths</th>\n",
              "      <th>Alcohol</th>\n",
              "      <th>percentageexpenditure</th>\n",
              "      <th>HepatitisB</th>\n",
              "      <th>Measles</th>\n",
              "      <th>...</th>\n",
              "      <th>Polio</th>\n",
              "      <th>Totalexpenditure</th>\n",
              "      <th>Diphtheria</th>\n",
              "      <th>HIV/AIDS</th>\n",
              "      <th>GDP</th>\n",
              "      <th>Population</th>\n",
              "      <th>thinness1-19years</th>\n",
              "      <th>thinness5-9years</th>\n",
              "      <th>Incomecompositionofresources</th>\n",
              "      <th>Schooling</th>\n",
              "    </tr>\n",
              "  </thead>\n",
              "  <tbody>\n",
              "    <tr>\n",
              "      <th>0</th>\n",
              "      <td>Afghanistan</td>\n",
              "      <td>2015</td>\n",
              "      <td>Developing</td>\n",
              "      <td>65.0</td>\n",
              "      <td>263.0</td>\n",
              "      <td>62</td>\n",
              "      <td>0.01</td>\n",
              "      <td>71.279624</td>\n",
              "      <td>65.0</td>\n",
              "      <td>1154</td>\n",
              "      <td>...</td>\n",
              "      <td>6.0</td>\n",
              "      <td>8.16</td>\n",
              "      <td>65.0</td>\n",
              "      <td>0.1</td>\n",
              "      <td>584.259210</td>\n",
              "      <td>33736494.0</td>\n",
              "      <td>17.2</td>\n",
              "      <td>17.3</td>\n",
              "      <td>0.479</td>\n",
              "      <td>10.1</td>\n",
              "    </tr>\n",
              "    <tr>\n",
              "      <th>1</th>\n",
              "      <td>Afghanistan</td>\n",
              "      <td>2014</td>\n",
              "      <td>Developing</td>\n",
              "      <td>59.9</td>\n",
              "      <td>271.0</td>\n",
              "      <td>64</td>\n",
              "      <td>0.01</td>\n",
              "      <td>73.523582</td>\n",
              "      <td>62.0</td>\n",
              "      <td>492</td>\n",
              "      <td>...</td>\n",
              "      <td>58.0</td>\n",
              "      <td>8.18</td>\n",
              "      <td>62.0</td>\n",
              "      <td>0.1</td>\n",
              "      <td>612.696514</td>\n",
              "      <td>327582.0</td>\n",
              "      <td>17.5</td>\n",
              "      <td>17.5</td>\n",
              "      <td>0.476</td>\n",
              "      <td>10.0</td>\n",
              "    </tr>\n",
              "    <tr>\n",
              "      <th>2</th>\n",
              "      <td>Afghanistan</td>\n",
              "      <td>2013</td>\n",
              "      <td>Developing</td>\n",
              "      <td>59.9</td>\n",
              "      <td>268.0</td>\n",
              "      <td>66</td>\n",
              "      <td>0.01</td>\n",
              "      <td>73.219243</td>\n",
              "      <td>64.0</td>\n",
              "      <td>430</td>\n",
              "      <td>...</td>\n",
              "      <td>62.0</td>\n",
              "      <td>8.13</td>\n",
              "      <td>64.0</td>\n",
              "      <td>0.1</td>\n",
              "      <td>631.744976</td>\n",
              "      <td>31731688.0</td>\n",
              "      <td>17.7</td>\n",
              "      <td>17.7</td>\n",
              "      <td>0.470</td>\n",
              "      <td>9.9</td>\n",
              "    </tr>\n",
              "    <tr>\n",
              "      <th>3</th>\n",
              "      <td>Afghanistan</td>\n",
              "      <td>2012</td>\n",
              "      <td>Developing</td>\n",
              "      <td>59.5</td>\n",
              "      <td>272.0</td>\n",
              "      <td>69</td>\n",
              "      <td>0.01</td>\n",
              "      <td>78.184215</td>\n",
              "      <td>67.0</td>\n",
              "      <td>2787</td>\n",
              "      <td>...</td>\n",
              "      <td>67.0</td>\n",
              "      <td>8.52</td>\n",
              "      <td>67.0</td>\n",
              "      <td>0.1</td>\n",
              "      <td>669.959000</td>\n",
              "      <td>3696958.0</td>\n",
              "      <td>17.9</td>\n",
              "      <td>18.0</td>\n",
              "      <td>0.463</td>\n",
              "      <td>9.8</td>\n",
              "    </tr>\n",
              "    <tr>\n",
              "      <th>4</th>\n",
              "      <td>Afghanistan</td>\n",
              "      <td>2011</td>\n",
              "      <td>Developing</td>\n",
              "      <td>59.2</td>\n",
              "      <td>275.0</td>\n",
              "      <td>71</td>\n",
              "      <td>0.01</td>\n",
              "      <td>7.097109</td>\n",
              "      <td>68.0</td>\n",
              "      <td>3013</td>\n",
              "      <td>...</td>\n",
              "      <td>68.0</td>\n",
              "      <td>7.87</td>\n",
              "      <td>68.0</td>\n",
              "      <td>0.1</td>\n",
              "      <td>63.537231</td>\n",
              "      <td>2978599.0</td>\n",
              "      <td>18.2</td>\n",
              "      <td>18.2</td>\n",
              "      <td>0.454</td>\n",
              "      <td>9.5</td>\n",
              "    </tr>\n",
              "  </tbody>\n",
              "</table>\n",
              "<p>5 rows × 22 columns</p>\n",
              "</div>"
            ],
            "text/plain": [
              "       Country  Year      Status  Lifeexpectancy  AdultMortality  \\\n",
              "0  Afghanistan  2015  Developing            65.0           263.0   \n",
              "1  Afghanistan  2014  Developing            59.9           271.0   \n",
              "2  Afghanistan  2013  Developing            59.9           268.0   \n",
              "3  Afghanistan  2012  Developing            59.5           272.0   \n",
              "4  Afghanistan  2011  Developing            59.2           275.0   \n",
              "\n",
              "   infantdeaths  Alcohol  percentageexpenditure  HepatitisB  Measles  ...  \\\n",
              "0            62     0.01              71.279624        65.0     1154  ...   \n",
              "1            64     0.01              73.523582        62.0      492  ...   \n",
              "2            66     0.01              73.219243        64.0      430  ...   \n",
              "3            69     0.01              78.184215        67.0     2787  ...   \n",
              "4            71     0.01               7.097109        68.0     3013  ...   \n",
              "\n",
              "   Polio  Totalexpenditure  Diphtheria  HIV/AIDS         GDP  Population  \\\n",
              "0    6.0              8.16        65.0       0.1  584.259210  33736494.0   \n",
              "1   58.0              8.18        62.0       0.1  612.696514    327582.0   \n",
              "2   62.0              8.13        64.0       0.1  631.744976  31731688.0   \n",
              "3   67.0              8.52        67.0       0.1  669.959000   3696958.0   \n",
              "4   68.0              7.87        68.0       0.1   63.537231   2978599.0   \n",
              "\n",
              "   thinness1-19years  thinness5-9years  Incomecompositionofresources  \\\n",
              "0               17.2              17.3                         0.479   \n",
              "1               17.5              17.5                         0.476   \n",
              "2               17.7              17.7                         0.470   \n",
              "3               17.9              18.0                         0.463   \n",
              "4               18.2              18.2                         0.454   \n",
              "\n",
              "   Schooling  \n",
              "0       10.1  \n",
              "1       10.0  \n",
              "2        9.9  \n",
              "3        9.8  \n",
              "4        9.5  \n",
              "\n",
              "[5 rows x 22 columns]"
            ]
          },
          "execution_count": 61,
          "metadata": {},
          "output_type": "execute_result"
        }
      ],
      "source": [
        "life_expectancy_df.head()"
      ]
    },
    {
      "cell_type": "code",
      "execution_count": 77,
      "metadata": {
        "colab": {
          "base_uri": "https://localhost:8080/"
        },
        "id": "wkz7Q5lfBuZd",
        "outputId": "0d466c2b-b0b6-4fe5-ab1b-3c0785718735"
      },
      "outputs": [
        {
          "name": "stdout",
          "output_type": "stream",
          "text": [
            "<class 'pandas.core.frame.DataFrame'>\n",
            "Int64Index: 1649 entries, 0 to 2937\n",
            "Data columns (total 20 columns):\n",
            " #   Column                        Non-Null Count  Dtype  \n",
            "---  ------                        --------------  -----  \n",
            " 0   Year                          1649 non-null   int64  \n",
            " 1   Lifeexpectancy                1649 non-null   float64\n",
            " 2   AdultMortality                1649 non-null   float64\n",
            " 3   infantdeaths                  1649 non-null   int64  \n",
            " 4   Alcohol                       1649 non-null   float64\n",
            " 5   percentageexpenditure         1649 non-null   float64\n",
            " 6   HepatitisB                    1649 non-null   float64\n",
            " 7   Measles                       1649 non-null   int64  \n",
            " 8   BMI                           1649 non-null   float64\n",
            " 9   under-fivedeaths              1649 non-null   int64  \n",
            " 10  Polio                         1649 non-null   float64\n",
            " 11  Totalexpenditure              1649 non-null   float64\n",
            " 12  Diphtheria                    1649 non-null   float64\n",
            " 13  HIV/AIDS                      1649 non-null   float64\n",
            " 14  GDP                           1649 non-null   float64\n",
            " 15  Population                    1649 non-null   float64\n",
            " 16  thinness1-19years             1649 non-null   float64\n",
            " 17  thinness5-9years              1649 non-null   float64\n",
            " 18  Incomecompositionofresources  1649 non-null   float64\n",
            " 19  Schooling                     1649 non-null   float64\n",
            "dtypes: float64(16), int64(4)\n",
            "memory usage: 270.5 KB\n"
          ]
        }
      ],
      "source": [
        "life_expectancy_df.info()"
      ]
    },
    {
      "cell_type": "code",
      "execution_count": 55,
      "metadata": {},
      "outputs": [],
      "source": [
        "#Remove unnecessary spaces\n",
        "life_expectancy_df.columns = life_expectancy_df.columns.str.replace(' ', '')"
      ]
    },
    {
      "cell_type": "code",
      "execution_count": 76,
      "metadata": {},
      "outputs": [],
      "source": [
        "#pd.to_numeric(life_expectancy_df[\"Country\"], errors='coerce')\n",
        "#life_expectancy_df[\"Country\"] = life_expectancy_df[\"Country\"].astype(float)\n",
        "\n",
        "#usunięcie kolumn z danymi jakościowymi\n",
        "#del life_expectancy_df['Country']\n",
        "#del life_expectancy_df['Status']"
      ]
    },
    {
      "cell_type": "code",
      "execution_count": 65,
      "metadata": {},
      "outputs": [
        {
          "ename": "ValueError",
          "evalue": "could not convert string to float: 'Afghanistan'",
          "output_type": "error",
          "traceback": [
            "\u001b[1;31m---------------------------------------------------------------------------\u001b[0m",
            "\u001b[1;31mValueError\u001b[0m                                Traceback (most recent call last)",
            "Cell \u001b[1;32mIn [65], line 1\u001b[0m\n\u001b[1;32m----> 1\u001b[0m life_expectancy_df[\u001b[39m\"\u001b[39m\u001b[39mCountry\u001b[39m\u001b[39m\"\u001b[39m] \u001b[39m=\u001b[39m life_expectancy_df[\u001b[39m\"\u001b[39;49m\u001b[39mCountry\u001b[39;49m\u001b[39m\"\u001b[39;49m]\u001b[39m.\u001b[39;49mastype(\u001b[39mfloat\u001b[39;49m)\n",
            "File \u001b[1;32mc:\\dev\\eggML\\.venv\\lib\\site-packages\\pandas\\core\\generic.py:6245\u001b[0m, in \u001b[0;36mNDFrame.astype\u001b[1;34m(self, dtype, copy, errors)\u001b[0m\n\u001b[0;32m   6238\u001b[0m     results \u001b[39m=\u001b[39m [\n\u001b[0;32m   6239\u001b[0m         \u001b[39mself\u001b[39m\u001b[39m.\u001b[39miloc[:, i]\u001b[39m.\u001b[39mastype(dtype, copy\u001b[39m=\u001b[39mcopy)\n\u001b[0;32m   6240\u001b[0m         \u001b[39mfor\u001b[39;00m i \u001b[39min\u001b[39;00m \u001b[39mrange\u001b[39m(\u001b[39mlen\u001b[39m(\u001b[39mself\u001b[39m\u001b[39m.\u001b[39mcolumns))\n\u001b[0;32m   6241\u001b[0m     ]\n\u001b[0;32m   6243\u001b[0m \u001b[39melse\u001b[39;00m:\n\u001b[0;32m   6244\u001b[0m     \u001b[39m# else, only a single dtype is given\u001b[39;00m\n\u001b[1;32m-> 6245\u001b[0m     new_data \u001b[39m=\u001b[39m \u001b[39mself\u001b[39;49m\u001b[39m.\u001b[39;49m_mgr\u001b[39m.\u001b[39;49mastype(dtype\u001b[39m=\u001b[39;49mdtype, copy\u001b[39m=\u001b[39;49mcopy, errors\u001b[39m=\u001b[39;49merrors)\n\u001b[0;32m   6246\u001b[0m     \u001b[39mreturn\u001b[39;00m \u001b[39mself\u001b[39m\u001b[39m.\u001b[39m_constructor(new_data)\u001b[39m.\u001b[39m__finalize__(\u001b[39mself\u001b[39m, method\u001b[39m=\u001b[39m\u001b[39m\"\u001b[39m\u001b[39mastype\u001b[39m\u001b[39m\"\u001b[39m)\n\u001b[0;32m   6248\u001b[0m \u001b[39m# GH 33113: handle empty frame or series\u001b[39;00m\n",
            "File \u001b[1;32mc:\\dev\\eggML\\.venv\\lib\\site-packages\\pandas\\core\\internals\\managers.py:446\u001b[0m, in \u001b[0;36mBaseBlockManager.astype\u001b[1;34m(self, dtype, copy, errors)\u001b[0m\n\u001b[0;32m    445\u001b[0m \u001b[39mdef\u001b[39;00m \u001b[39mastype\u001b[39m(\u001b[39mself\u001b[39m: T, dtype, copy: \u001b[39mbool\u001b[39m \u001b[39m=\u001b[39m \u001b[39mFalse\u001b[39;00m, errors: \u001b[39mstr\u001b[39m \u001b[39m=\u001b[39m \u001b[39m\"\u001b[39m\u001b[39mraise\u001b[39m\u001b[39m\"\u001b[39m) \u001b[39m-\u001b[39m\u001b[39m>\u001b[39m T:\n\u001b[1;32m--> 446\u001b[0m     \u001b[39mreturn\u001b[39;00m \u001b[39mself\u001b[39;49m\u001b[39m.\u001b[39;49mapply(\u001b[39m\"\u001b[39;49m\u001b[39mastype\u001b[39;49m\u001b[39m\"\u001b[39;49m, dtype\u001b[39m=\u001b[39;49mdtype, copy\u001b[39m=\u001b[39;49mcopy, errors\u001b[39m=\u001b[39;49merrors)\n",
            "File \u001b[1;32mc:\\dev\\eggML\\.venv\\lib\\site-packages\\pandas\\core\\internals\\managers.py:348\u001b[0m, in \u001b[0;36mBaseBlockManager.apply\u001b[1;34m(self, f, align_keys, ignore_failures, **kwargs)\u001b[0m\n\u001b[0;32m    346\u001b[0m         applied \u001b[39m=\u001b[39m b\u001b[39m.\u001b[39mapply(f, \u001b[39m*\u001b[39m\u001b[39m*\u001b[39mkwargs)\n\u001b[0;32m    347\u001b[0m     \u001b[39melse\u001b[39;00m:\n\u001b[1;32m--> 348\u001b[0m         applied \u001b[39m=\u001b[39m \u001b[39mgetattr\u001b[39m(b, f)(\u001b[39m*\u001b[39m\u001b[39m*\u001b[39mkwargs)\n\u001b[0;32m    349\u001b[0m \u001b[39mexcept\u001b[39;00m (\u001b[39mTypeError\u001b[39;00m, \u001b[39mNotImplementedError\u001b[39;00m):\n\u001b[0;32m    350\u001b[0m     \u001b[39mif\u001b[39;00m \u001b[39mnot\u001b[39;00m ignore_failures:\n",
            "File \u001b[1;32mc:\\dev\\eggML\\.venv\\lib\\site-packages\\pandas\\core\\internals\\blocks.py:527\u001b[0m, in \u001b[0;36mBlock.astype\u001b[1;34m(self, dtype, copy, errors)\u001b[0m\n\u001b[0;32m    509\u001b[0m \u001b[39m\"\"\"\u001b[39;00m\n\u001b[0;32m    510\u001b[0m \u001b[39mCoerce to the new dtype.\u001b[39;00m\n\u001b[0;32m    511\u001b[0m \n\u001b[1;32m   (...)\u001b[0m\n\u001b[0;32m    523\u001b[0m \u001b[39mBlock\u001b[39;00m\n\u001b[0;32m    524\u001b[0m \u001b[39m\"\"\"\u001b[39;00m\n\u001b[0;32m    525\u001b[0m values \u001b[39m=\u001b[39m \u001b[39mself\u001b[39m\u001b[39m.\u001b[39mvalues\n\u001b[1;32m--> 527\u001b[0m new_values \u001b[39m=\u001b[39m astype_array_safe(values, dtype, copy\u001b[39m=\u001b[39;49mcopy, errors\u001b[39m=\u001b[39;49merrors)\n\u001b[0;32m    529\u001b[0m new_values \u001b[39m=\u001b[39m maybe_coerce_values(new_values)\n\u001b[0;32m    530\u001b[0m newb \u001b[39m=\u001b[39m \u001b[39mself\u001b[39m\u001b[39m.\u001b[39mmake_block(new_values)\n",
            "File \u001b[1;32mc:\\dev\\eggML\\.venv\\lib\\site-packages\\pandas\\core\\dtypes\\astype.py:299\u001b[0m, in \u001b[0;36mastype_array_safe\u001b[1;34m(values, dtype, copy, errors)\u001b[0m\n\u001b[0;32m    296\u001b[0m     \u001b[39mreturn\u001b[39;00m values\u001b[39m.\u001b[39mcopy()\n\u001b[0;32m    298\u001b[0m \u001b[39mtry\u001b[39;00m:\n\u001b[1;32m--> 299\u001b[0m     new_values \u001b[39m=\u001b[39m astype_array(values, dtype, copy\u001b[39m=\u001b[39;49mcopy)\n\u001b[0;32m    300\u001b[0m \u001b[39mexcept\u001b[39;00m (\u001b[39mValueError\u001b[39;00m, \u001b[39mTypeError\u001b[39;00m):\n\u001b[0;32m    301\u001b[0m     \u001b[39m# e.g. astype_nansafe can fail on object-dtype of strings\u001b[39;00m\n\u001b[0;32m    302\u001b[0m     \u001b[39m#  trying to convert to float\u001b[39;00m\n\u001b[0;32m    303\u001b[0m     \u001b[39mif\u001b[39;00m errors \u001b[39m==\u001b[39m \u001b[39m\"\u001b[39m\u001b[39mignore\u001b[39m\u001b[39m\"\u001b[39m:\n",
            "File \u001b[1;32mc:\\dev\\eggML\\.venv\\lib\\site-packages\\pandas\\core\\dtypes\\astype.py:230\u001b[0m, in \u001b[0;36mastype_array\u001b[1;34m(values, dtype, copy)\u001b[0m\n\u001b[0;32m    227\u001b[0m     values \u001b[39m=\u001b[39m values\u001b[39m.\u001b[39mastype(dtype, copy\u001b[39m=\u001b[39mcopy)\n\u001b[0;32m    229\u001b[0m \u001b[39melse\u001b[39;00m:\n\u001b[1;32m--> 230\u001b[0m     values \u001b[39m=\u001b[39m astype_nansafe(values, dtype, copy\u001b[39m=\u001b[39;49mcopy)\n\u001b[0;32m    232\u001b[0m \u001b[39m# in pandas we don't store numpy str dtypes, so convert to object\u001b[39;00m\n\u001b[0;32m    233\u001b[0m \u001b[39mif\u001b[39;00m \u001b[39misinstance\u001b[39m(dtype, np\u001b[39m.\u001b[39mdtype) \u001b[39mand\u001b[39;00m \u001b[39missubclass\u001b[39m(values\u001b[39m.\u001b[39mdtype\u001b[39m.\u001b[39mtype, \u001b[39mstr\u001b[39m):\n",
            "File \u001b[1;32mc:\\dev\\eggML\\.venv\\lib\\site-packages\\pandas\\core\\dtypes\\astype.py:170\u001b[0m, in \u001b[0;36mastype_nansafe\u001b[1;34m(arr, dtype, copy, skipna)\u001b[0m\n\u001b[0;32m    166\u001b[0m     \u001b[39mraise\u001b[39;00m \u001b[39mValueError\u001b[39;00m(msg)\n\u001b[0;32m    168\u001b[0m \u001b[39mif\u001b[39;00m copy \u001b[39mor\u001b[39;00m is_object_dtype(arr\u001b[39m.\u001b[39mdtype) \u001b[39mor\u001b[39;00m is_object_dtype(dtype):\n\u001b[0;32m    169\u001b[0m     \u001b[39m# Explicit copy, or required since NumPy can't view from / to object.\u001b[39;00m\n\u001b[1;32m--> 170\u001b[0m     \u001b[39mreturn\u001b[39;00m arr\u001b[39m.\u001b[39;49mastype(dtype, copy\u001b[39m=\u001b[39;49m\u001b[39mTrue\u001b[39;49;00m)\n\u001b[0;32m    172\u001b[0m \u001b[39mreturn\u001b[39;00m arr\u001b[39m.\u001b[39mastype(dtype, copy\u001b[39m=\u001b[39mcopy)\n",
            "\u001b[1;31mValueError\u001b[0m: could not convert string to float: 'Afghanistan'"
          ]
        }
      ],
      "source": []
    },
    {
      "cell_type": "code",
      "execution_count": 97,
      "metadata": {
        "colab": {
          "base_uri": "https://localhost:8080/",
          "height": 416
        },
        "id": "CKlPA-ecB2qz",
        "outputId": "577a93fa-7d09-4939-8726-0b7e5f9d9c3e"
      },
      "outputs": [
        {
          "data": {
            "text/html": [
              "<div>\n",
              "<style scoped>\n",
              "    .dataframe tbody tr th:only-of-type {\n",
              "        vertical-align: middle;\n",
              "    }\n",
              "\n",
              "    .dataframe tbody tr th {\n",
              "        vertical-align: top;\n",
              "    }\n",
              "\n",
              "    .dataframe thead th {\n",
              "        text-align: right;\n",
              "    }\n",
              "</style>\n",
              "<table border=\"1\" class=\"dataframe\">\n",
              "  <thead>\n",
              "    <tr style=\"text-align: right;\">\n",
              "      <th></th>\n",
              "      <th>Year</th>\n",
              "      <th>Lifeexpectancy</th>\n",
              "      <th>AdultMortality</th>\n",
              "      <th>infantdeaths</th>\n",
              "      <th>Alcohol</th>\n",
              "      <th>percentageexpenditure</th>\n",
              "      <th>HepatitisB</th>\n",
              "      <th>Measles</th>\n",
              "      <th>BMI</th>\n",
              "      <th>under-fivedeaths</th>\n",
              "      <th>Polio</th>\n",
              "      <th>Totalexpenditure</th>\n",
              "      <th>Diphtheria</th>\n",
              "      <th>HIV/AIDS</th>\n",
              "      <th>GDP</th>\n",
              "      <th>Population</th>\n",
              "      <th>thinness1-19years</th>\n",
              "      <th>thinness5-9years</th>\n",
              "      <th>Incomecompositionofresources</th>\n",
              "      <th>Schooling</th>\n",
              "    </tr>\n",
              "  </thead>\n",
              "  <tbody>\n",
              "    <tr>\n",
              "      <th>count</th>\n",
              "      <td>1649.000000</td>\n",
              "      <td>1649.000000</td>\n",
              "      <td>1649.000000</td>\n",
              "      <td>1649.000000</td>\n",
              "      <td>1649.000000</td>\n",
              "      <td>1649.000000</td>\n",
              "      <td>1649.000000</td>\n",
              "      <td>1649.000000</td>\n",
              "      <td>1649.000000</td>\n",
              "      <td>1649.000000</td>\n",
              "      <td>1649.000000</td>\n",
              "      <td>1649.000000</td>\n",
              "      <td>1649.000000</td>\n",
              "      <td>1649.000000</td>\n",
              "      <td>1649.000000</td>\n",
              "      <td>1.649000e+03</td>\n",
              "      <td>1649.000000</td>\n",
              "      <td>1649.000000</td>\n",
              "      <td>1649.000000</td>\n",
              "      <td>1649.000000</td>\n",
              "    </tr>\n",
              "    <tr>\n",
              "      <th>mean</th>\n",
              "      <td>2007.840509</td>\n",
              "      <td>69.302304</td>\n",
              "      <td>168.215282</td>\n",
              "      <td>32.553062</td>\n",
              "      <td>4.533196</td>\n",
              "      <td>698.973558</td>\n",
              "      <td>79.217708</td>\n",
              "      <td>2224.494239</td>\n",
              "      <td>38.128623</td>\n",
              "      <td>44.220133</td>\n",
              "      <td>83.564585</td>\n",
              "      <td>5.955925</td>\n",
              "      <td>84.155246</td>\n",
              "      <td>1.983869</td>\n",
              "      <td>5566.031887</td>\n",
              "      <td>1.465363e+07</td>\n",
              "      <td>4.850637</td>\n",
              "      <td>4.907762</td>\n",
              "      <td>0.631551</td>\n",
              "      <td>12.119891</td>\n",
              "    </tr>\n",
              "    <tr>\n",
              "      <th>std</th>\n",
              "      <td>4.087711</td>\n",
              "      <td>8.796834</td>\n",
              "      <td>125.310417</td>\n",
              "      <td>120.847190</td>\n",
              "      <td>4.029189</td>\n",
              "      <td>1759.229336</td>\n",
              "      <td>25.604664</td>\n",
              "      <td>10085.802019</td>\n",
              "      <td>19.754249</td>\n",
              "      <td>162.897999</td>\n",
              "      <td>22.450557</td>\n",
              "      <td>2.299385</td>\n",
              "      <td>21.579193</td>\n",
              "      <td>6.032360</td>\n",
              "      <td>11475.900117</td>\n",
              "      <td>7.046039e+07</td>\n",
              "      <td>4.599228</td>\n",
              "      <td>4.653757</td>\n",
              "      <td>0.183089</td>\n",
              "      <td>2.795388</td>\n",
              "    </tr>\n",
              "    <tr>\n",
              "      <th>min</th>\n",
              "      <td>2000.000000</td>\n",
              "      <td>44.000000</td>\n",
              "      <td>1.000000</td>\n",
              "      <td>0.000000</td>\n",
              "      <td>0.010000</td>\n",
              "      <td>0.000000</td>\n",
              "      <td>2.000000</td>\n",
              "      <td>0.000000</td>\n",
              "      <td>2.000000</td>\n",
              "      <td>0.000000</td>\n",
              "      <td>3.000000</td>\n",
              "      <td>0.740000</td>\n",
              "      <td>2.000000</td>\n",
              "      <td>0.100000</td>\n",
              "      <td>1.681350</td>\n",
              "      <td>3.400000e+01</td>\n",
              "      <td>0.100000</td>\n",
              "      <td>0.100000</td>\n",
              "      <td>0.000000</td>\n",
              "      <td>4.200000</td>\n",
              "    </tr>\n",
              "    <tr>\n",
              "      <th>25%</th>\n",
              "      <td>2005.000000</td>\n",
              "      <td>64.400000</td>\n",
              "      <td>77.000000</td>\n",
              "      <td>1.000000</td>\n",
              "      <td>0.810000</td>\n",
              "      <td>37.438577</td>\n",
              "      <td>74.000000</td>\n",
              "      <td>0.000000</td>\n",
              "      <td>19.500000</td>\n",
              "      <td>1.000000</td>\n",
              "      <td>81.000000</td>\n",
              "      <td>4.410000</td>\n",
              "      <td>82.000000</td>\n",
              "      <td>0.100000</td>\n",
              "      <td>462.149650</td>\n",
              "      <td>1.918970e+05</td>\n",
              "      <td>1.600000</td>\n",
              "      <td>1.700000</td>\n",
              "      <td>0.509000</td>\n",
              "      <td>10.300000</td>\n",
              "    </tr>\n",
              "    <tr>\n",
              "      <th>50%</th>\n",
              "      <td>2008.000000</td>\n",
              "      <td>71.700000</td>\n",
              "      <td>148.000000</td>\n",
              "      <td>3.000000</td>\n",
              "      <td>3.790000</td>\n",
              "      <td>145.102253</td>\n",
              "      <td>89.000000</td>\n",
              "      <td>15.000000</td>\n",
              "      <td>43.700000</td>\n",
              "      <td>4.000000</td>\n",
              "      <td>93.000000</td>\n",
              "      <td>5.840000</td>\n",
              "      <td>92.000000</td>\n",
              "      <td>0.100000</td>\n",
              "      <td>1592.572182</td>\n",
              "      <td>1.419631e+06</td>\n",
              "      <td>3.000000</td>\n",
              "      <td>3.200000</td>\n",
              "      <td>0.673000</td>\n",
              "      <td>12.300000</td>\n",
              "    </tr>\n",
              "    <tr>\n",
              "      <th>75%</th>\n",
              "      <td>2011.000000</td>\n",
              "      <td>75.000000</td>\n",
              "      <td>227.000000</td>\n",
              "      <td>22.000000</td>\n",
              "      <td>7.340000</td>\n",
              "      <td>509.389994</td>\n",
              "      <td>96.000000</td>\n",
              "      <td>373.000000</td>\n",
              "      <td>55.800000</td>\n",
              "      <td>29.000000</td>\n",
              "      <td>97.000000</td>\n",
              "      <td>7.470000</td>\n",
              "      <td>97.000000</td>\n",
              "      <td>0.700000</td>\n",
              "      <td>4718.512910</td>\n",
              "      <td>7.658972e+06</td>\n",
              "      <td>7.100000</td>\n",
              "      <td>7.100000</td>\n",
              "      <td>0.751000</td>\n",
              "      <td>14.000000</td>\n",
              "    </tr>\n",
              "    <tr>\n",
              "      <th>max</th>\n",
              "      <td>2015.000000</td>\n",
              "      <td>89.000000</td>\n",
              "      <td>723.000000</td>\n",
              "      <td>1600.000000</td>\n",
              "      <td>17.870000</td>\n",
              "      <td>18961.348600</td>\n",
              "      <td>99.000000</td>\n",
              "      <td>131441.000000</td>\n",
              "      <td>77.100000</td>\n",
              "      <td>2100.000000</td>\n",
              "      <td>99.000000</td>\n",
              "      <td>14.390000</td>\n",
              "      <td>99.000000</td>\n",
              "      <td>50.600000</td>\n",
              "      <td>119172.741800</td>\n",
              "      <td>1.293859e+09</td>\n",
              "      <td>27.200000</td>\n",
              "      <td>28.200000</td>\n",
              "      <td>0.936000</td>\n",
              "      <td>20.700000</td>\n",
              "    </tr>\n",
              "  </tbody>\n",
              "</table>\n",
              "</div>"
            ],
            "text/plain": [
              "              Year  Lifeexpectancy  AdultMortality  infantdeaths      Alcohol  \\\n",
              "count  1649.000000     1649.000000     1649.000000   1649.000000  1649.000000   \n",
              "mean   2007.840509       69.302304      168.215282     32.553062     4.533196   \n",
              "std       4.087711        8.796834      125.310417    120.847190     4.029189   \n",
              "min    2000.000000       44.000000        1.000000      0.000000     0.010000   \n",
              "25%    2005.000000       64.400000       77.000000      1.000000     0.810000   \n",
              "50%    2008.000000       71.700000      148.000000      3.000000     3.790000   \n",
              "75%    2011.000000       75.000000      227.000000     22.000000     7.340000   \n",
              "max    2015.000000       89.000000      723.000000   1600.000000    17.870000   \n",
              "\n",
              "       percentageexpenditure   HepatitisB        Measles          BMI  \\\n",
              "count            1649.000000  1649.000000    1649.000000  1649.000000   \n",
              "mean              698.973558    79.217708    2224.494239    38.128623   \n",
              "std              1759.229336    25.604664   10085.802019    19.754249   \n",
              "min                 0.000000     2.000000       0.000000     2.000000   \n",
              "25%                37.438577    74.000000       0.000000    19.500000   \n",
              "50%               145.102253    89.000000      15.000000    43.700000   \n",
              "75%               509.389994    96.000000     373.000000    55.800000   \n",
              "max             18961.348600    99.000000  131441.000000    77.100000   \n",
              "\n",
              "       under-fivedeaths        Polio  Totalexpenditure   Diphtheria  \\\n",
              "count       1649.000000  1649.000000       1649.000000  1649.000000   \n",
              "mean          44.220133    83.564585          5.955925    84.155246   \n",
              "std          162.897999    22.450557          2.299385    21.579193   \n",
              "min            0.000000     3.000000          0.740000     2.000000   \n",
              "25%            1.000000    81.000000          4.410000    82.000000   \n",
              "50%            4.000000    93.000000          5.840000    92.000000   \n",
              "75%           29.000000    97.000000          7.470000    97.000000   \n",
              "max         2100.000000    99.000000         14.390000    99.000000   \n",
              "\n",
              "          HIV/AIDS            GDP    Population  thinness1-19years  \\\n",
              "count  1649.000000    1649.000000  1.649000e+03        1649.000000   \n",
              "mean      1.983869    5566.031887  1.465363e+07           4.850637   \n",
              "std       6.032360   11475.900117  7.046039e+07           4.599228   \n",
              "min       0.100000       1.681350  3.400000e+01           0.100000   \n",
              "25%       0.100000     462.149650  1.918970e+05           1.600000   \n",
              "50%       0.100000    1592.572182  1.419631e+06           3.000000   \n",
              "75%       0.700000    4718.512910  7.658972e+06           7.100000   \n",
              "max      50.600000  119172.741800  1.293859e+09          27.200000   \n",
              "\n",
              "       thinness5-9years  Incomecompositionofresources    Schooling  \n",
              "count       1649.000000                   1649.000000  1649.000000  \n",
              "mean           4.907762                      0.631551    12.119891  \n",
              "std            4.653757                      0.183089     2.795388  \n",
              "min            0.100000                      0.000000     4.200000  \n",
              "25%            1.700000                      0.509000    10.300000  \n",
              "50%            3.200000                      0.673000    12.300000  \n",
              "75%            7.100000                      0.751000    14.000000  \n",
              "max           28.200000                      0.936000    20.700000  "
            ]
          },
          "execution_count": 97,
          "metadata": {},
          "output_type": "execute_result"
        }
      ],
      "source": [
        "life_expectancy_df.describe()"
      ]
    },
    {
      "cell_type": "code",
      "execution_count": 98,
      "metadata": {
        "colab": {
          "base_uri": "https://localhost:8080/"
        },
        "id": "RDgyOVUjEH4N",
        "outputId": "1fbc1aa7-82ce-4a9c-abc6-4fef904c8016"
      },
      "outputs": [
        {
          "data": {
            "text/plain": [
              "Year                            0\n",
              "Lifeexpectancy                  0\n",
              "AdultMortality                  0\n",
              "infantdeaths                    0\n",
              "Alcohol                         0\n",
              "percentageexpenditure           0\n",
              "HepatitisB                      0\n",
              "Measles                         0\n",
              "BMI                             0\n",
              "under-fivedeaths                0\n",
              "Polio                           0\n",
              "Totalexpenditure                0\n",
              "Diphtheria                      0\n",
              "HIV/AIDS                        0\n",
              "GDP                             0\n",
              "Population                      0\n",
              "thinness1-19years               0\n",
              "thinness5-9years                0\n",
              "Incomecompositionofresources    0\n",
              "Schooling                       0\n",
              "dtype: int64"
            ]
          },
          "execution_count": 98,
          "metadata": {},
          "output_type": "execute_result"
        }
      ],
      "source": [
        "# checking for null values\n",
        "life_expectancy_df.isnull().sum()"
      ]
    },
    {
      "cell_type": "code",
      "execution_count": 15,
      "metadata": {
        "id": "odOxRmevEad8"
      },
      "outputs": [],
      "source": [
        "# delete missing/empty observations\n",
        "life_expectancy_df = life_expectancy_df.dropna()            "
      ]
    },
    {
      "cell_type": "code",
      "execution_count": 99,
      "metadata": {
        "colab": {
          "base_uri": "https://localhost:8080/"
        },
        "id": "3UOOHUcdFEHj",
        "outputId": "184e2160-b297-4043-f8e0-bd4b8baa8a58"
      },
      "outputs": [
        {
          "data": {
            "text/plain": [
              "Year                            0\n",
              "Lifeexpectancy                  0\n",
              "AdultMortality                  0\n",
              "infantdeaths                    0\n",
              "Alcohol                         0\n",
              "percentageexpenditure           0\n",
              "HepatitisB                      0\n",
              "Measles                         0\n",
              "BMI                             0\n",
              "under-fivedeaths                0\n",
              "Polio                           0\n",
              "Totalexpenditure                0\n",
              "Diphtheria                      0\n",
              "HIV/AIDS                        0\n",
              "GDP                             0\n",
              "Population                      0\n",
              "thinness1-19years               0\n",
              "thinness5-9years                0\n",
              "Incomecompositionofresources    0\n",
              "Schooling                       0\n",
              "dtype: int64"
            ]
          },
          "execution_count": 99,
          "metadata": {},
          "output_type": "execute_result"
        }
      ],
      "source": [
        "# checking again for null values\n",
        "life_expectancy_df.isnull().sum()"
      ]
    },
    {
      "cell_type": "markdown",
      "metadata": {
        "id": "HCVjkzTvFIbG"
      },
      "source": [
        "Mind, that after dropping some rows, the size of dataset changed.\n",
        "\n",
        "As an alternative to deleting missing observations, the empty cells can be filled with the expected (mean) value of the data series:\n",
        "\n",
        " ``` \n",
        " life_expectancy_df = life_expectancy_data.copy()\n",
        " life_expectancy_df.fillna(life_expectancy_df.mean(), inplace=True)\n",
        " ```\n",
        " This forces pandas to replace cells with NaN values with column mean."
      ]
    },
    {
      "cell_type": "code",
      "execution_count": 100,
      "metadata": {
        "id": "Wicys4YuGgvr"
      },
      "outputs": [],
      "source": [
        "# create correlation matix\n",
        "corr = life_expectancy_df.corr()"
      ]
    },
    {
      "cell_type": "code",
      "execution_count": 101,
      "metadata": {
        "colab": {
          "base_uri": "https://localhost:8080/",
          "height": 770
        },
        "id": "OEaGe8joGgvt",
        "outputId": "f3ece4a3-e26c-44d9-ddca-72010b47c462"
      },
      "outputs": [
        {
          "data": {
            "image/png": "[encoded data removed]",
            "text/plain": [
              "<Figure size 1500x1000 with 2 Axes>"
            ]
          },
          "metadata": {},
          "output_type": "display_data"
        }
      ],
      "source": [
        "# plot matrix\n",
        "plt.figure(figsize=(15,10))\n",
        "\n",
        "sns.heatmap(\n",
        "    corr,\n",
        "    vmax=.8, \n",
        "    annot=True,\n",
        "    cmap='icefire'\n",
        "    )\n",
        "\n",
        "plt.show()"
      ]
    },
    {
      "cell_type": "markdown",
      "metadata": {
        "id": "FHThwsdcIRW7"
      },
      "source": [
        "## Prepare data"
      ]
    },
    {
      "cell_type": "code",
      "execution_count": 105,
      "metadata": {
        "id": "-LQ6-shiIifR"
      },
      "outputs": [],
      "source": [
        "## your code goes here...\n",
        "X = life_expectancy_df[[\"GDP\", \"HepatitisB\"]].to_numpy().reshape(-1, 2)\n",
        "y = life_expectancy_df.to_numpy()\n",
        "X_train, X_test, y_train, y_test = train_test_split(X, y, test_size=0.2, random_state=42)\n",
        "\n"
      ]
    },
    {
      "cell_type": "markdown",
      "metadata": {
        "id": "gMFL06OpJGBF"
      },
      "source": [
        "## Fit the model"
      ]
    },
    {
      "cell_type": "code",
      "execution_count": 107,
      "metadata": {
        "id": "7VPXf7VqIfys"
      },
      "outputs": [
        {
          "data": {
            "text/html": [
              "<style>#sk-container-id-6 {color: black;background-color: white;}#sk-container-id-6 pre{padding: 0;}#sk-container-id-6 div.sk-toggleable {background-color: white;}#sk-container-id-6 label.sk-toggleable__label {cursor: pointer;display: block;width: 100%;margin-bottom: 0;padding: 0.3em;box-sizing: border-box;text-align: center;}#sk-container-id-6 label.sk-toggleable__label-arrow:before {content: \"▸\";float: left;margin-right: 0.25em;color: #696969;}#sk-container-id-6 label.sk-toggleable__label-arrow:hover:before {color: black;}#sk-container-id-6 div.sk-estimator:hover label.sk-toggleable__label-arrow:before {color: black;}#sk-container-id-6 div.sk-toggleable__content {max-height: 0;max-width: 0;overflow: hidden;text-align: left;background-color: #f0f8ff;}#sk-container-id-6 div.sk-toggleable__content pre {margin: 0.2em;color: black;border-radius: 0.25em;background-color: #f0f8ff;}#sk-container-id-6 input.sk-toggleable__control:checked~div.sk-toggleable__content {max-height: 200px;max-width: 100%;overflow: auto;}#sk-container-id-6 input.sk-toggleable__control:checked~label.sk-toggleable__label-arrow:before {content: \"▾\";}#sk-container-id-6 div.sk-estimator input.sk-toggleable__control:checked~label.sk-toggleable__label {background-color: #d4ebff;}#sk-container-id-6 div.sk-label input.sk-toggleable__control:checked~label.sk-toggleable__label {background-color: #d4ebff;}#sk-container-id-6 input.sk-hidden--visually {border: 0;clip: rect(1px 1px 1px 1px);clip: rect(1px, 1px, 1px, 1px);height: 1px;margin: -1px;overflow: hidden;padding: 0;position: absolute;width: 1px;}#sk-container-id-6 div.sk-estimator {font-family: monospace;background-color: #f0f8ff;border: 1px dotted black;border-radius: 0.25em;box-sizing: border-box;margin-bottom: 0.5em;}#sk-container-id-6 div.sk-estimator:hover {background-color: #d4ebff;}#sk-container-id-6 div.sk-parallel-item::after {content: \"\";width: 100%;border-bottom: 1px solid gray;flex-grow: 1;}#sk-container-id-6 div.sk-label:hover label.sk-toggleable__label {background-color: #d4ebff;}#sk-container-id-6 div.sk-serial::before {content: \"\";position: absolute;border-left: 1px solid gray;box-sizing: border-box;top: 0;bottom: 0;left: 50%;z-index: 0;}#sk-container-id-6 div.sk-serial {display: flex;flex-direction: column;align-items: center;background-color: white;padding-right: 0.2em;padding-left: 0.2em;position: relative;}#sk-container-id-6 div.sk-item {position: relative;z-index: 1;}#sk-container-id-6 div.sk-parallel {display: flex;align-items: stretch;justify-content: center;background-color: white;position: relative;}#sk-container-id-6 div.sk-item::before, #sk-container-id-6 div.sk-parallel-item::before {content: \"\";position: absolute;border-left: 1px solid gray;box-sizing: border-box;top: 0;bottom: 0;left: 50%;z-index: -1;}#sk-container-id-6 div.sk-parallel-item {display: flex;flex-direction: column;z-index: 1;position: relative;background-color: white;}#sk-container-id-6 div.sk-parallel-item:first-child::after {align-self: flex-end;width: 50%;}#sk-container-id-6 div.sk-parallel-item:last-child::after {align-self: flex-start;width: 50%;}#sk-container-id-6 div.sk-parallel-item:only-child::after {width: 0;}#sk-container-id-6 div.sk-dashed-wrapped {border: 1px dashed gray;margin: 0 0.4em 0.5em 0.4em;box-sizing: border-box;padding-bottom: 0.4em;background-color: white;}#sk-container-id-6 div.sk-label label {font-family: monospace;font-weight: bold;display: inline-block;line-height: 1.2em;}#sk-container-id-6 div.sk-label-container {text-align: center;}#sk-container-id-6 div.sk-container {/* jupyter's `normalize.less` sets `[hidden] { display: none; }` but bootstrap.min.css set `[hidden] { display: none !important; }` so we also need the `!important` here to be able to override the default hidden behavior on the sphinx rendered scikit-learn.org. See: https://github.com/scikit-learn/scikit-learn/issues/21755 */display: inline-block !important;position: relative;}#sk-container-id-6 div.sk-text-repr-fallback {display: none;}</style><div id=\"sk-container-id-6\" class=\"sk-top-container\"><div class=\"sk-text-repr-fallback\"><pre>LinearRegression()</pre><b>In a Jupyter environment, please rerun this cell to show the HTML representation or trust the notebook. <br />On GitHub, the HTML representation is unable to render, please try loading this page with nbviewer.org.</b></div><div class=\"sk-container\" hidden><div class=\"sk-item\"><div class=\"sk-estimator sk-toggleable\"><input class=\"sk-toggleable__control sk-hidden--visually\" id=\"sk-estimator-id-6\" type=\"checkbox\" checked><label for=\"sk-estimator-id-6\" class=\"sk-toggleable__label sk-toggleable__label-arrow\">LinearRegression</label><div class=\"sk-toggleable__content\"><pre>LinearRegression()</pre></div></div></div></div></div>"
            ],
            "text/plain": [
              "LinearRegression()"
            ]
          },
          "execution_count": 107,
          "metadata": {},
          "output_type": "execute_result"
        }
      ],
      "source": [
        "## your code goes here...\n",
        "lin_regressor = linear_model.LinearRegression()\n",
        "lin_regressor\n",
        "\n",
        "lin_regressor.fit(X_train, y_train)\n"
      ]
    },
    {
      "cell_type": "markdown",
      "metadata": {
        "id": "22uuIQUeJWFQ"
      },
      "source": [
        "## Test the model"
      ]
    },
    {
      "cell_type": "markdown",
      "metadata": {
        "id": "03l9A01gJe4q"
      },
      "source": [
        "* print R^2, MAE and MSE of predicted data."
      ]
    },
    {
      "cell_type": "code",
      "execution_count": 108,
      "metadata": {
        "id": "vmasOy6rJVie"
      },
      "outputs": [],
      "source": [
        "## your code goes here...\n",
        "\n",
        "life_expectancy_y_pred = lin_regressor.predict(X_test)"
      ]
    },
    {
      "cell_type": "code",
      "execution_count": 91,
      "metadata": {},
      "outputs": [
        {
          "name": "stdout",
          "output_type": "stream",
          "text": [
            "Coefficient of determination: 0.25442439575187403\n"
          ]
        }
      ],
      "source": [
        "# The coefficient of determination: 1 is perfect prediction\n",
        "print(f\"Coefficient of determination: {r2_score(y_test, life_expectancy_y_pred)}\")"
      ]
    },
    {
      "cell_type": "code",
      "execution_count": 92,
      "metadata": {},
      "outputs": [
        {
          "name": "stdout",
          "output_type": "stream",
          "text": [
            "Mean absolute error: 1133735.2010802834\n"
          ]
        }
      ],
      "source": [
        "# The mean absolute error\n",
        "print(f\"Mean absolute error: {mean_absolute_error(y_test, life_expectancy_y_pred)}\")"
      ]
    },
    {
      "cell_type": "code",
      "execution_count": 93,
      "metadata": {},
      "outputs": [
        {
          "name": "stdout",
          "output_type": "stream",
          "text": [
            "Mean squared error: 466840230247134.4\n"
          ]
        }
      ],
      "source": [
        "# The mean squared error\n",
        "print(f\"Mean squared error: {mean_squared_error(y_test, life_expectancy_y_pred)}\")"
      ]
    },
    {
      "cell_type": "code",
      "execution_count": 109,
      "metadata": {},
      "outputs": [
        {
          "ename": "ValueError",
          "evalue": "Per-column arrays must each be 1-dimensional",
          "output_type": "error",
          "traceback": [
            "\u001b[1;31m---------------------------------------------------------------------------\u001b[0m",
            "\u001b[1;31mValueError\u001b[0m                                Traceback (most recent call last)",
            "Cell \u001b[1;32mIn [109], line 1\u001b[0m\n\u001b[1;32m----> 1\u001b[0m prediction_results_df \u001b[39m=\u001b[39m pd\u001b[39m.\u001b[39;49mDataFrame({ \n\u001b[0;32m      2\u001b[0m     \u001b[39m\"\u001b[39;49m\u001b[39mX_GDP\u001b[39;49m\u001b[39m\"\u001b[39;49m: X_test[:,\u001b[39m0\u001b[39;49m],\n\u001b[0;32m      3\u001b[0m     \u001b[39m\"\u001b[39;49m\u001b[39mX_HepatitisB\u001b[39;49m\u001b[39m\"\u001b[39;49m: X_test[:,\u001b[39m1\u001b[39;49m],\n\u001b[0;32m      4\u001b[0m     \u001b[39m\"\u001b[39;49m\u001b[39my_real\u001b[39;49m\u001b[39m\"\u001b[39;49m: y_test,\n\u001b[0;32m      5\u001b[0m     \u001b[39m\"\u001b[39;49m\u001b[39my_pred\u001b[39;49m\u001b[39m\"\u001b[39;49m: life_expectancy_y_pred,   \n\u001b[0;32m      6\u001b[0m })\n\u001b[0;32m      8\u001b[0m prediction_results_df\u001b[39m.\u001b[39mhead()\n",
            "File \u001b[1;32mc:\\dev\\eggML\\.venv\\lib\\site-packages\\pandas\\core\\frame.py:663\u001b[0m, in \u001b[0;36mDataFrame.__init__\u001b[1;34m(self, data, index, columns, dtype, copy)\u001b[0m\n\u001b[0;32m    657\u001b[0m     mgr \u001b[39m=\u001b[39m \u001b[39mself\u001b[39m\u001b[39m.\u001b[39m_init_mgr(\n\u001b[0;32m    658\u001b[0m         data, axes\u001b[39m=\u001b[39m{\u001b[39m\"\u001b[39m\u001b[39mindex\u001b[39m\u001b[39m\"\u001b[39m: index, \u001b[39m\"\u001b[39m\u001b[39mcolumns\u001b[39m\u001b[39m\"\u001b[39m: columns}, dtype\u001b[39m=\u001b[39mdtype, copy\u001b[39m=\u001b[39mcopy\n\u001b[0;32m    659\u001b[0m     )\n\u001b[0;32m    661\u001b[0m \u001b[39melif\u001b[39;00m \u001b[39misinstance\u001b[39m(data, \u001b[39mdict\u001b[39m):\n\u001b[0;32m    662\u001b[0m     \u001b[39m# GH#38939 de facto copy defaults to False only in non-dict cases\u001b[39;00m\n\u001b[1;32m--> 663\u001b[0m     mgr \u001b[39m=\u001b[39m dict_to_mgr(data, index, columns, dtype\u001b[39m=\u001b[39;49mdtype, copy\u001b[39m=\u001b[39;49mcopy, typ\u001b[39m=\u001b[39;49mmanager)\n\u001b[0;32m    664\u001b[0m \u001b[39melif\u001b[39;00m \u001b[39misinstance\u001b[39m(data, ma\u001b[39m.\u001b[39mMaskedArray):\n\u001b[0;32m    665\u001b[0m     \u001b[39mimport\u001b[39;00m \u001b[39mnumpy\u001b[39;00m\u001b[39m.\u001b[39;00m\u001b[39mma\u001b[39;00m\u001b[39m.\u001b[39;00m\u001b[39mmrecords\u001b[39;00m \u001b[39mas\u001b[39;00m \u001b[39mmrecords\u001b[39;00m\n",
            "File \u001b[1;32mc:\\dev\\eggML\\.venv\\lib\\site-packages\\pandas\\core\\internals\\construction.py:494\u001b[0m, in \u001b[0;36mdict_to_mgr\u001b[1;34m(data, index, columns, dtype, typ, copy)\u001b[0m\n\u001b[0;32m    490\u001b[0m     \u001b[39melse\u001b[39;00m:\n\u001b[0;32m    491\u001b[0m         \u001b[39m# dtype check to exclude e.g. range objects, scalars\u001b[39;00m\n\u001b[0;32m    492\u001b[0m         arrays \u001b[39m=\u001b[39m [x\u001b[39m.\u001b[39mcopy() \u001b[39mif\u001b[39;00m \u001b[39mhasattr\u001b[39m(x, \u001b[39m\"\u001b[39m\u001b[39mdtype\u001b[39m\u001b[39m\"\u001b[39m) \u001b[39melse\u001b[39;00m x \u001b[39mfor\u001b[39;00m x \u001b[39min\u001b[39;00m arrays]\n\u001b[1;32m--> 494\u001b[0m \u001b[39mreturn\u001b[39;00m arrays_to_mgr(arrays, columns, index, dtype\u001b[39m=\u001b[39;49mdtype, typ\u001b[39m=\u001b[39;49mtyp, consolidate\u001b[39m=\u001b[39;49mcopy)\n",
            "File \u001b[1;32mc:\\dev\\eggML\\.venv\\lib\\site-packages\\pandas\\core\\internals\\construction.py:119\u001b[0m, in \u001b[0;36marrays_to_mgr\u001b[1;34m(arrays, columns, index, dtype, verify_integrity, typ, consolidate)\u001b[0m\n\u001b[0;32m    116\u001b[0m \u001b[39mif\u001b[39;00m verify_integrity:\n\u001b[0;32m    117\u001b[0m     \u001b[39m# figure out the index, if necessary\u001b[39;00m\n\u001b[0;32m    118\u001b[0m     \u001b[39mif\u001b[39;00m index \u001b[39mis\u001b[39;00m \u001b[39mNone\u001b[39;00m:\n\u001b[1;32m--> 119\u001b[0m         index \u001b[39m=\u001b[39m _extract_index(arrays)\n\u001b[0;32m    120\u001b[0m     \u001b[39melse\u001b[39;00m:\n\u001b[0;32m    121\u001b[0m         index \u001b[39m=\u001b[39m ensure_index(index)\n",
            "File \u001b[1;32mc:\\dev\\eggML\\.venv\\lib\\site-packages\\pandas\\core\\internals\\construction.py:654\u001b[0m, in \u001b[0;36m_extract_index\u001b[1;34m(data)\u001b[0m\n\u001b[0;32m    652\u001b[0m         raw_lengths\u001b[39m.\u001b[39mappend(\u001b[39mlen\u001b[39m(val))\n\u001b[0;32m    653\u001b[0m     \u001b[39melif\u001b[39;00m \u001b[39misinstance\u001b[39m(val, np\u001b[39m.\u001b[39mndarray) \u001b[39mand\u001b[39;00m val\u001b[39m.\u001b[39mndim \u001b[39m>\u001b[39m \u001b[39m1\u001b[39m:\n\u001b[1;32m--> 654\u001b[0m         \u001b[39mraise\u001b[39;00m \u001b[39mValueError\u001b[39;00m(\u001b[39m\"\u001b[39m\u001b[39mPer-column arrays must each be 1-dimensional\u001b[39m\u001b[39m\"\u001b[39m)\n\u001b[0;32m    656\u001b[0m \u001b[39mif\u001b[39;00m \u001b[39mnot\u001b[39;00m indexes \u001b[39mand\u001b[39;00m \u001b[39mnot\u001b[39;00m raw_lengths:\n\u001b[0;32m    657\u001b[0m     \u001b[39mraise\u001b[39;00m \u001b[39mValueError\u001b[39;00m(\u001b[39m\"\u001b[39m\u001b[39mIf using all scalar values, you must pass an index\u001b[39m\u001b[39m\"\u001b[39m)\n",
            "\u001b[1;31mValueError\u001b[0m: Per-column arrays must each be 1-dimensional"
          ]
        }
      ],
      "source": [
        "prediction_results_df = pd.DataFrame({ \n",
        "    \"X_GDP\": X_test[:,0],\n",
        "    \"X_HepatitisB\": X_test[:,1],\n",
        "    \"y_real\": y_test,\n",
        "    \"y_pred\": life_expectancy_y_pred,   \n",
        "})\n",
        "\n",
        "prediction_results_df.head()"
      ]
    }
  ],
  "metadata": {
    "colab": {
      "authorship_tag": "ABX9TyNW7dAR+xyC64FVEW/xpfwb",
      "collapsed_sections": [],
      "include_colab_link": true,
      "provenance": []
    },
    "kernelspec": {
      "display_name": "Python 3.10.8 ('.venv': venv)",
      "language": "python",
      "name": "python3"
    },
    "language_info": {
      "codemirror_mode": {
        "name": "ipython",
        "version": 3
      },
      "file_extension": ".py",
      "mimetype": "text/x-python",
      "name": "python",
      "nbconvert_exporter": "python",
      "pygments_lexer": "ipython3",
      "version": "3.10.8"
    },
    "vscode": {
      "interpreter": {
        "hash": "f611fa96355cf74be2e9dd8a672ceb22205045c1337634f78f90da6bd654be31"
      }
    },
    "widgets": {
      "application/vnd.jupyter.widget-state+json": {
        "007a190d395b4dec95f0606df1603122": {
          "model_module": "@jupyter-widgets/controls",
          "model_module_version": "1.5.0",
          "model_name": "IntSliderModel",
          "state": {
            "_dom_classes": [],
            "_model_module": "@jupyter-widgets/controls",
            "_model_module_version": "1.5.0",
            "_model_name": "IntSliderModel",
            "_view_count": null,
            "_view_module": "@jupyter-widgets/controls",
            "_view_module_version": "1.5.0",
            "_view_name": "IntSliderView",
            "continuous_update": true,
            "description": "Features",
            "description_tooltip": null,
            "disabled": false,
            "layout": "IPY_MODEL_196dbdde774e46909bc347aef0127177",
            "max": 28,
            "min": 1,
            "orientation": "horizontal",
            "readout": true,
            "readout_format": "d",
            "step": 1,
            "style": "IPY_MODEL_22c32c3d1e56447bb2f1781156410c1b",
            "value": 3
          }
        },
        "196dbdde774e46909bc347aef0127177": {
          "model_module": "@jupyter-widgets/base",
          "model_module_version": "1.2.0",
          "model_name": "LayoutModel",
          "state": {
            "_model_module": "@jupyter-widgets/base",
            "_model_module_version": "1.2.0",
            "_model_name": "LayoutModel",
            "_view_count": null,
            "_view_module": "@jupyter-widgets/base",
            "_view_module_version": "1.2.0",
            "_view_name": "LayoutView",
            "align_content": null,
            "align_items": null,
            "align_self": null,
            "border": null,
            "bottom": null,
            "display": null,
            "flex": null,
            "flex_flow": null,
            "grid_area": null,
            "grid_auto_columns": null,
            "grid_auto_flow": null,
            "grid_auto_rows": null,
            "grid_column": null,
            "grid_gap": null,
            "grid_row": null,
            "grid_template_areas": null,
            "grid_template_columns": null,
            "grid_template_rows": null,
            "height": null,
            "justify_content": null,
            "justify_items": null,
            "left": null,
            "margin": null,
            "max_height": null,
            "max_width": null,
            "min_height": null,
            "min_width": null,
            "object_fit": null,
            "object_position": null,
            "order": null,
            "overflow": null,
            "overflow_x": null,
            "overflow_y": null,
            "padding": null,
            "right": null,
            "top": null,
            "visibility": null,
            "width": null
          }
        },
        "22c32c3d1e56447bb2f1781156410c1b": {
          "model_module": "@jupyter-widgets/controls",
          "model_module_version": "1.5.0",
          "model_name": "SliderStyleModel",
          "state": {
            "_model_module": "@jupyter-widgets/controls",
            "_model_module_version": "1.5.0",
            "_model_name": "SliderStyleModel",
            "_view_count": null,
            "_view_module": "@jupyter-widgets/base",
            "_view_module_version": "1.2.0",
            "_view_name": "StyleView",
            "description_width": "",
            "handle_color": null
          }
        },
        "45681054571b444faf15547c61e3560f": {
          "model_module": "@jupyter-widgets/controls",
          "model_module_version": "1.5.0",
          "model_name": "FloatSliderModel",
          "state": {
            "_dom_classes": [],
            "_model_module": "@jupyter-widgets/controls",
            "_model_module_version": "1.5.0",
            "_model_name": "FloatSliderModel",
            "_view_count": null,
            "_view_module": "@jupyter-widgets/controls",
            "_view_module_version": "1.5.0",
            "_view_name": "FloatSliderView",
            "continuous_update": true,
            "description": "R2",
            "description_tooltip": null,
            "disabled": false,
            "layout": "IPY_MODEL_9082413ccba0457ba5663602440e45fc",
            "max": 1,
            "min": 0,
            "orientation": "horizontal",
            "readout": true,
            "readout_format": ".2f",
            "step": 0.01,
            "style": "IPY_MODEL_c8348d86252a41b789c4f983b6e5ca1e",
            "value": 0.08
          }
        },
        "9082413ccba0457ba5663602440e45fc": {
          "model_module": "@jupyter-widgets/base",
          "model_module_version": "1.2.0",
          "model_name": "LayoutModel",
          "state": {
            "_model_module": "@jupyter-widgets/base",
            "_model_module_version": "1.2.0",
            "_model_name": "LayoutModel",
            "_view_count": null,
            "_view_module": "@jupyter-widgets/base",
            "_view_module_version": "1.2.0",
            "_view_name": "LayoutView",
            "align_content": null,
            "align_items": null,
            "align_self": null,
            "border": null,
            "bottom": null,
            "display": null,
            "flex": null,
            "flex_flow": null,
            "grid_area": null,
            "grid_auto_columns": null,
            "grid_auto_flow": null,
            "grid_auto_rows": null,
            "grid_column": null,
            "grid_gap": null,
            "grid_row": null,
            "grid_template_areas": null,
            "grid_template_columns": null,
            "grid_template_rows": null,
            "height": null,
            "justify_content": null,
            "justify_items": null,
            "left": null,
            "margin": null,
            "max_height": null,
            "max_width": null,
            "min_height": null,
            "min_width": null,
            "object_fit": null,
            "object_position": null,
            "order": null,
            "overflow": null,
            "overflow_x": null,
            "overflow_y": null,
            "padding": null,
            "right": null,
            "top": null,
            "visibility": null,
            "width": null
          }
        },
        "96d67cc9277b41128f682d6ebf4afcc9": {
          "model_module": "@jupyter-widgets/output",
          "model_module_version": "1.0.0",
          "model_name": "OutputModel",
          "state": {
            "_dom_classes": [],
            "_model_module": "@jupyter-widgets/output",
            "_model_module_version": "1.0.0",
            "_model_name": "OutputModel",
            "_view_count": null,
            "_view_module": "@jupyter-widgets/output",
            "_view_module_version": "1.0.0",
            "_view_name": "OutputView",
            "layout": "IPY_MODEL_fcc67da25b9e487d9fcbafff16c69e24",
            "msg_id": "",
            "outputs": [
              {
                "data": {
                  "image/png": "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\n",
                  "text/plain": "<Figure size 720x360 with 1 Axes>"
                },
                "metadata": {
                  "needs_background": "light"
                },
                "output_type": "display_data"
              }
            ]
          }
        },
        "a795aacdfe7c46898fe7bbda948a6b33": {
          "model_module": "@jupyter-widgets/controls",
          "model_module_version": "1.5.0",
          "model_name": "VBoxModel",
          "state": {
            "_dom_classes": [
              "widget-interact"
            ],
            "_model_module": "@jupyter-widgets/controls",
            "_model_module_version": "1.5.0",
            "_model_name": "VBoxModel",
            "_view_count": null,
            "_view_module": "@jupyter-widgets/controls",
            "_view_module_version": "1.5.0",
            "_view_name": "VBoxView",
            "box_style": "",
            "children": [
              "IPY_MODEL_45681054571b444faf15547c61e3560f",
              "IPY_MODEL_007a190d395b4dec95f0606df1603122",
              "IPY_MODEL_96d67cc9277b41128f682d6ebf4afcc9"
            ],
            "layout": "IPY_MODEL_d63dd3875ffb4d4d8ac6d384337cd22c"
          }
        },
        "c8348d86252a41b789c4f983b6e5ca1e": {
          "model_module": "@jupyter-widgets/controls",
          "model_module_version": "1.5.0",
          "model_name": "SliderStyleModel",
          "state": {
            "_model_module": "@jupyter-widgets/controls",
            "_model_module_version": "1.5.0",
            "_model_name": "SliderStyleModel",
            "_view_count": null,
            "_view_module": "@jupyter-widgets/base",
            "_view_module_version": "1.2.0",
            "_view_name": "StyleView",
            "description_width": "",
            "handle_color": null
          }
        },
        "d63dd3875ffb4d4d8ac6d384337cd22c": {
          "model_module": "@jupyter-widgets/base",
          "model_module_version": "1.2.0",
          "model_name": "LayoutModel",
          "state": {
            "_model_module": "@jupyter-widgets/base",
            "_model_module_version": "1.2.0",
            "_model_name": "LayoutModel",
            "_view_count": null,
            "_view_module": "@jupyter-widgets/base",
            "_view_module_version": "1.2.0",
            "_view_name": "LayoutView",
            "align_content": null,
            "align_items": null,
            "align_self": null,
            "border": null,
            "bottom": null,
            "display": null,
            "flex": null,
            "flex_flow": null,
            "grid_area": null,
            "grid_auto_columns": null,
            "grid_auto_flow": null,
            "grid_auto_rows": null,
            "grid_column": null,
            "grid_gap": null,
            "grid_row": null,
            "grid_template_areas": null,
            "grid_template_columns": null,
            "grid_template_rows": null,
            "height": null,
            "justify_content": null,
            "justify_items": null,
            "left": null,
            "margin": null,
            "max_height": null,
            "max_width": null,
            "min_height": null,
            "min_width": null,
            "object_fit": null,
            "object_position": null,
            "order": null,
            "overflow": null,
            "overflow_x": null,
            "overflow_y": null,
            "padding": null,
            "right": null,
            "top": null,
            "visibility": null,
            "width": null
          }
        },
        "fcc67da25b9e487d9fcbafff16c69e24": {
          "model_module": "@jupyter-widgets/base",
          "model_module_version": "1.2.0",
          "model_name": "LayoutModel",
          "state": {
            "_model_module": "@jupyter-widgets/base",
            "_model_module_version": "1.2.0",
            "_model_name": "LayoutModel",
            "_view_count": null,
            "_view_module": "@jupyter-widgets/base",
            "_view_module_version": "1.2.0",
            "_view_name": "LayoutView",
            "align_content": null,
            "align_items": null,
            "align_self": null,
            "border": null,
            "bottom": null,
            "display": null,
            "flex": null,
            "flex_flow": null,
            "grid_area": null,
            "grid_auto_columns": null,
            "grid_auto_flow": null,
            "grid_auto_rows": null,
            "grid_column": null,
            "grid_gap": null,
            "grid_row": null,
            "grid_template_areas": null,
            "grid_template_columns": null,
            "grid_template_rows": null,
            "height": null,
            "justify_content": null,
            "justify_items": null,
            "left": null,
            "margin": null,
            "max_height": null,
            "max_width": null,
            "min_height": null,
            "min_width": null,
            "object_fit": null,
            "object_position": null,
            "order": null,
            "overflow": null,
            "overflow_x": null,
            "overflow_y": null,
            "padding": null,
            "right": null,
            "top": null,
            "visibility": null,
            "width": null
          }
        }
      }
    }
  },
  "nbformat": 4,
  "nbformat_minor": 0
}
